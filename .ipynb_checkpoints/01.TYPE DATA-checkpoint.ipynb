{
 "cells": [
  {
   "cell_type": "code",
   "execution_count": 32,
   "id": "b8e44ae6-15e1-40f7-8308-ea5140571c25",
   "metadata": {},
   "outputs": [],
   "source": [
    " nama, umur = \"kemal\", 30"
   ]
  },
  {
   "cell_type": "code",
   "execution_count": 40,
   "id": "3eac8964-bb35-4ad6-8f1f-2c5dc4d62109",
   "metadata": {},
   "outputs": [
    {
     "data": {
      "text/plain": [
       "30"
      ]
     },
     "execution_count": 40,
     "metadata": {},
     "output_type": "execute_result"
    }
   ],
   "source": [
    "umur"
   ]
  },
  {
   "cell_type": "code",
   "execution_count": 42,
   "id": "80233b23-591f-4b6e-97e0-82048aeb78e0",
   "metadata": {},
   "outputs": [],
   "source": [
    "del umur"
   ]
  },
  {
   "cell_type": "code",
   "execution_count": 44,
   "id": "b082722e-13d9-4156-a41f-5e74fe9ca9c1",
   "metadata": {},
   "outputs": [
    {
     "ename": "NameError",
     "evalue": "name 'umur' is not defined",
     "output_type": "error",
     "traceback": [
      "\u001b[0;31m---------------------------------------------------------------------------\u001b[0m",
      "\u001b[0;31mNameError\u001b[0m                                 Traceback (most recent call last)",
      "Cell \u001b[0;32mIn[44], line 1\u001b[0m\n\u001b[0;32m----> 1\u001b[0m umur\n",
      "\u001b[0;31mNameError\u001b[0m: name 'umur' is not defined"
     ]
    }
   ],
   "source": [
    "umur"
   ]
  },
  {
   "cell_type": "code",
   "execution_count": 46,
   "id": "c4cb880f-8381-49a3-9101-9003f65b9fba",
   "metadata": {},
   "outputs": [
    {
     "data": {
      "text/plain": [
       "'kemal'"
      ]
     },
     "execution_count": 46,
     "metadata": {},
     "output_type": "execute_result"
    }
   ],
   "source": [
    "nama"
   ]
  },
  {
   "cell_type": "markdown",
   "id": "8e9db841-b23a-4d6a-8565-c766298d257b",
   "metadata": {},
   "source": [
    "TIPE DATA NUMBER"
   ]
  },
  {
   "cell_type": "markdown",
   "id": "e2e007d2-e397-4004-9a42-6cb537209a54",
   "metadata": {},
   "source": [
    "***INTEGER***"
   ]
  },
  {
   "cell_type": "code",
   "execution_count": 60,
   "id": "3daf975c-5b65-4e34-bfa7-d1c1011c5102",
   "metadata": {},
   "outputs": [
    {
     "data": {
      "text/plain": [
       "10"
      ]
     },
     "execution_count": 60,
     "metadata": {},
     "output_type": "execute_result"
    }
   ],
   "source": [
    "10\n"
   ]
  },
  {
   "cell_type": "code",
   "execution_count": 62,
   "id": "03a122f0-173d-4387-90bf-fad004f59dd8",
   "metadata": {},
   "outputs": [
    {
     "data": {
      "text/plain": [
       "-20"
      ]
     },
     "execution_count": 62,
     "metadata": {},
     "output_type": "execute_result"
    }
   ],
   "source": [
    "-20"
   ]
  },
  {
   "cell_type": "code",
   "execution_count": null,
   "id": "122f5c9f-907a-4660-9ffe-095057550907",
   "metadata": {},
   "outputs": [],
   "source": []
  },
  {
   "cell_type": "markdown",
   "id": "6979b6c8-dfda-4b66-9239-9ef123fa3008",
   "metadata": {},
   "source": [
    "***FLOATING***"
   ]
  },
  {
   "cell_type": "code",
   "execution_count": 64,
   "id": "f54d8f6a-fcb6-4f28-ad48-f5b9b2f8959c",
   "metadata": {},
   "outputs": [
    {
     "data": {
      "text/plain": [
       "222.222"
      ]
     },
     "execution_count": 64,
     "metadata": {},
     "output_type": "execute_result"
    }
   ],
   "source": [
    "222.222"
   ]
  },
  {
   "cell_type": "markdown",
   "id": "0cfa314e-0f79-4138-8659-b2856dac6c67",
   "metadata": {},
   "source": [
    "***COMPLEX***"
   ]
  },
  {
   "cell_type": "code",
   "execution_count": 76,
   "id": "d152062e-a24a-4a1b-bd14-83b33a7233c7",
   "metadata": {},
   "outputs": [],
   "source": [
    "bilangan_complex = 19j"
   ]
  },
  {
   "cell_type": "code",
   "execution_count": 78,
   "id": "58a80a52-e1b7-4b72-b011-d802c543dff2",
   "metadata": {},
   "outputs": [
    {
     "data": {
      "text/plain": [
       "complex"
      ]
     },
     "execution_count": 78,
     "metadata": {},
     "output_type": "execute_result"
    }
   ],
   "source": [
    "type(bilangan_complex)"
   ]
  },
  {
   "cell_type": "code",
   "execution_count": 80,
   "id": "796da8fb-63c0-4742-b01e-1dd0482d36f2",
   "metadata": {},
   "outputs": [],
   "source": [
    "a,b,c = 20,5.5,8j"
   ]
  },
  {
   "cell_type": "code",
   "execution_count": 82,
   "id": "c8c5e06c-5f76-4200-bcb8-5d64a9aaf4db",
   "metadata": {},
   "outputs": [
    {
     "data": {
      "text/plain": [
       "(20+8j)"
      ]
     },
     "execution_count": 82,
     "metadata": {},
     "output_type": "execute_result"
    }
   ],
   "source": [
    "a+c"
   ]
  },
  {
   "cell_type": "code",
   "execution_count": 84,
   "id": "34c74e46-e877-4822-8883-35fb31ae5ca4",
   "metadata": {},
   "outputs": [
    {
     "data": {
      "text/plain": [
       "400"
      ]
     },
     "execution_count": 84,
     "metadata": {},
     "output_type": "execute_result"
    }
   ],
   "source": [
    "a*a"
   ]
  },
  {
   "cell_type": "code",
   "execution_count": 86,
   "id": "d83300f7-39d2-43b0-8bc2-12e6a747c913",
   "metadata": {},
   "outputs": [
    {
     "data": {
      "text/plain": [
       "-2.5j"
      ]
     },
     "execution_count": 86,
     "metadata": {},
     "output_type": "execute_result"
    }
   ],
   "source": [
    "a/c"
   ]
  },
  {
   "cell_type": "code",
   "execution_count": 88,
   "id": "d12bef34-d16b-403c-ac9b-05678aebd6b7",
   "metadata": {},
   "outputs": [
    {
     "data": {
      "text/plain": [
       "2"
      ]
     },
     "execution_count": 88,
     "metadata": {},
     "output_type": "execute_result"
    }
   ],
   "source": [
    "5%3"
   ]
  },
  {
   "cell_type": "markdown",
   "id": "8d3d07fa-23fb-4325-bf52-3aa1d8d011c8",
   "metadata": {},
   "source": [
    "pangkat"
   ]
  },
  {
   "cell_type": "code",
   "execution_count": 90,
   "id": "9148256d-ff26-4919-b34d-d580852873e4",
   "metadata": {},
   "outputs": [
    {
     "data": {
      "text/plain": [
       "125"
      ]
     },
     "execution_count": 90,
     "metadata": {},
     "output_type": "execute_result"
    }
   ],
   "source": [
    "5**3"
   ]
  },
  {
   "cell_type": "code",
   "execution_count": 92,
   "id": "c142102b-070e-4d5c-95a4-f3ac06a9a27c",
   "metadata": {},
   "outputs": [
    {
     "data": {
      "text/plain": [
       "1.379729661461215"
      ]
     },
     "execution_count": 92,
     "metadata": {},
     "output_type": "execute_result"
    }
   ],
   "source": [
    "5**(0.2)"
   ]
  },
  {
   "cell_type": "code",
   "execution_count": 94,
   "id": "3bb5d96f-aaeb-47b9-8266-13ed11a90d74",
   "metadata": {},
   "outputs": [
    {
     "data": {
      "text/plain": [
       "float"
      ]
     },
     "execution_count": 94,
     "metadata": {},
     "output_type": "execute_result"
    }
   ],
   "source": [
    "type(5**(0.2))"
   ]
  },
  {
   "cell_type": "markdown",
   "id": "f4d5f673-cb36-41f9-846e-8019c818047c",
   "metadata": {},
   "source": [
    "aritmatika : otomatis perkalian di exsekusi di awal"
   ]
  },
  {
   "cell_type": "code",
   "execution_count": 96,
   "id": "bd9b0807-5a10-4cef-8b15-32ad29d4cdba",
   "metadata": {},
   "outputs": [
    {
     "data": {
      "text/plain": [
       "15"
      ]
     },
     "execution_count": 96,
     "metadata": {},
     "output_type": "execute_result"
    }
   ],
   "source": [
    "4+ 2*3 +5"
   ]
  },
  {
   "cell_type": "markdown",
   "id": "6061e1c2-ebcc-452f-a6f9-bea0eafd02ad",
   "metadata": {},
   "source": [
    "parse to int"
   ]
  },
  {
   "cell_type": "code",
   "execution_count": 102,
   "id": "bf6a163e-b634-41cd-8002-9bd0285f479a",
   "metadata": {},
   "outputs": [],
   "source": [
    "x=  \"4\""
   ]
  },
  {
   "cell_type": "code",
   "execution_count": 104,
   "id": "7f224b5b-abfd-4278-8108-baa647904e08",
   "metadata": {},
   "outputs": [
    {
     "data": {
      "text/plain": [
       "'4'"
      ]
     },
     "execution_count": 104,
     "metadata": {},
     "output_type": "execute_result"
    }
   ],
   "source": [
    "x"
   ]
  },
  {
   "cell_type": "code",
   "execution_count": 106,
   "id": "ab3ef7ba-3a70-4674-9ee7-193ef4289661",
   "metadata": {},
   "outputs": [
    {
     "ename": "TypeError",
     "evalue": "can only concatenate str (not \"int\") to str",
     "output_type": "error",
     "traceback": [
      "\u001b[0;31m---------------------------------------------------------------------------\u001b[0m",
      "\u001b[0;31mTypeError\u001b[0m                                 Traceback (most recent call last)",
      "Cell \u001b[0;32mIn[106], line 1\u001b[0m\n\u001b[0;32m----> 1\u001b[0m x\u001b[38;5;241m+\u001b[39m\u001b[38;5;241m2\u001b[39m\n",
      "\u001b[0;31mTypeError\u001b[0m: can only concatenate str (not \"int\") to str"
     ]
    }
   ],
   "source": [
    "x+2"
   ]
  },
  {
   "cell_type": "code",
   "execution_count": 108,
   "id": "b38b453a-567f-418b-b8c7-5d0f369687dc",
   "metadata": {},
   "outputs": [
    {
     "data": {
      "text/plain": [
       "6"
      ]
     },
     "execution_count": 108,
     "metadata": {},
     "output_type": "execute_result"
    }
   ],
   "source": [
    "int(x) +2"
   ]
  },
  {
   "cell_type": "code",
   "execution_count": 110,
   "id": "d0a8644c-c4ce-49b0-a126-edb0b9e62b42",
   "metadata": {},
   "outputs": [],
   "source": [
    "bil_float = '-2.444'"
   ]
  },
  {
   "cell_type": "code",
   "execution_count": 116,
   "id": "80326e3a-b26b-437f-8e80-763ea09bdd1c",
   "metadata": {},
   "outputs": [
    {
     "data": {
      "text/plain": [
       "2.444"
      ]
     },
     "execution_count": 116,
     "metadata": {},
     "output_type": "execute_result"
    }
   ],
   "source": [
    "abs(float(bil_float))"
   ]
  },
  {
   "cell_type": "code",
   "execution_count": 142,
   "id": "2215b32b-348d-4683-93ec-ea6aaf4a77b5",
   "metadata": {},
   "outputs": [
    {
     "data": {
      "text/plain": [
       "4.5"
      ]
     },
     "execution_count": 142,
     "metadata": {},
     "output_type": "execute_result"
    }
   ],
   "source": [
    "round(4.500,2)"
   ]
  },
  {
   "cell_type": "code",
   "execution_count": 146,
   "id": "80a9c303-d016-414a-ae5b-7b835268c994",
   "metadata": {},
   "outputs": [
    {
     "data": {
      "text/plain": [
       "5"
      ]
     },
     "execution_count": 146,
     "metadata": {},
     "output_type": "execute_result"
    }
   ],
   "source": [
    "import math\n",
    "math.ceil(4.500)"
   ]
  },
  {
   "cell_type": "markdown",
   "id": "d78721c2-d87f-4491-ab65-95a739b9f2fc",
   "metadata": {},
   "source": [
    "***boolean***"
   ]
  },
  {
   "cell_type": "code",
   "execution_count": 149,
   "id": "9ab64e1d-6bba-43e3-aeb1-2f3b7dbdf865",
   "metadata": {},
   "outputs": [],
   "source": [
    "bol = True"
   ]
  },
  {
   "cell_type": "code",
   "execution_count": 153,
   "id": "f53f89f9-f969-438e-892b-1952e504bfe5",
   "metadata": {},
   "outputs": [
    {
     "data": {
      "text/plain": [
       "True"
      ]
     },
     "execution_count": 153,
     "metadata": {},
     "output_type": "execute_result"
    }
   ],
   "source": [
    "bol"
   ]
  },
  {
   "cell_type": "code",
   "execution_count": 155,
   "id": "6072136a-38be-4430-a9fa-48757d66aa0a",
   "metadata": {},
   "outputs": [
    {
     "data": {
      "text/plain": [
       "False"
      ]
     },
     "execution_count": 155,
     "metadata": {},
     "output_type": "execute_result"
    }
   ],
   "source": [
    "1>2"
   ]
  },
  {
   "cell_type": "code",
   "execution_count": 157,
   "id": "b16353c0-4564-468c-9ff6-fc95e05db457",
   "metadata": {},
   "outputs": [
    {
     "data": {
      "text/plain": [
       "True"
      ]
     },
     "execution_count": 157,
     "metadata": {},
     "output_type": "execute_result"
    }
   ],
   "source": [
    "2>1"
   ]
  },
  {
   "cell_type": "code",
   "execution_count": 161,
   "id": "c0721563-c1bb-4407-8935-295f6d55cb27",
   "metadata": {},
   "outputs": [
    {
     "data": {
      "text/plain": [
       "False"
      ]
     },
     "execution_count": 161,
     "metadata": {},
     "output_type": "execute_result"
    }
   ],
   "source": [
    "\"Kemal\" == \"kemal\""
   ]
  },
  {
   "cell_type": "code",
   "execution_count": 163,
   "id": "a90b6f01-d1e3-47cc-bf20-73aeba883541",
   "metadata": {},
   "outputs": [
    {
     "data": {
      "text/plain": [
       "True"
      ]
     },
     "execution_count": 163,
     "metadata": {},
     "output_type": "execute_result"
    }
   ],
   "source": [
    "bool(1)"
   ]
  },
  {
   "cell_type": "code",
   "execution_count": 165,
   "id": "68d53b03-3f99-4f4e-8869-526c104d749f",
   "metadata": {},
   "outputs": [
    {
     "data": {
      "text/plain": [
       "False"
      ]
     },
     "execution_count": 165,
     "metadata": {},
     "output_type": "execute_result"
    }
   ],
   "source": [
    "bool(0)"
   ]
  },
  {
   "cell_type": "code",
   "execution_count": 167,
   "id": "e8fac5f8-ff78-44ca-a5b2-ae2a42f14c4c",
   "metadata": {},
   "outputs": [
    {
     "data": {
      "text/plain": [
       "True"
      ]
     },
     "execution_count": 167,
     "metadata": {},
     "output_type": "execute_result"
    }
   ],
   "source": [
    "bool(\"kemal\")"
   ]
  },
  {
   "cell_type": "code",
   "execution_count": 169,
   "id": "e7a22eaf-b7f2-4bc5-82fc-0f12d0092752",
   "metadata": {},
   "outputs": [
    {
     "data": {
      "text/plain": [
       "False"
      ]
     },
     "execution_count": 169,
     "metadata": {},
     "output_type": "execute_result"
    }
   ],
   "source": [
    "bool(\"\")"
   ]
  },
  {
   "cell_type": "code",
   "execution_count": 173,
   "id": "5ba0c9e2-8b67-4481-becd-27f676ce3107",
   "metadata": {},
   "outputs": [
    {
     "ename": "NameError",
     "evalue": "name 'undefined' is not defined",
     "output_type": "error",
     "traceback": [
      "\u001b[0;31m---------------------------------------------------------------------------\u001b[0m",
      "\u001b[0;31mNameError\u001b[0m                                 Traceback (most recent call last)",
      "Cell \u001b[0;32mIn[173], line 1\u001b[0m\n\u001b[0;32m----> 1\u001b[0m \u001b[38;5;28mbool\u001b[39m(undefined)\n",
      "\u001b[0;31mNameError\u001b[0m: name 'undefined' is not defined"
     ]
    }
   ],
   "source": [
    "bool(undefined)"
   ]
  },
  {
   "cell_type": "code",
   "execution_count": 177,
   "id": "79d76ee2-4b27-4790-921a-b91a4835f56a",
   "metadata": {},
   "outputs": [
    {
     "data": {
      "text/plain": [
       "False"
      ]
     },
     "execution_count": 177,
     "metadata": {},
     "output_type": "execute_result"
    }
   ],
   "source": [
    "bool(None)"
   ]
  },
  {
   "cell_type": "code",
   "execution_count": 179,
   "id": "47ff6dd2-d0b3-4cbc-9ca6-fdbb923e9ee6",
   "metadata": {},
   "outputs": [
    {
     "data": {
      "text/plain": [
       "False"
      ]
     },
     "execution_count": 179,
     "metadata": {},
     "output_type": "execute_result"
    }
   ],
   "source": [
    "bool(())"
   ]
  },
  {
   "cell_type": "code",
   "execution_count": 181,
   "id": "334cca1a-befd-4c79-b4b9-ace77d2fdcfb",
   "metadata": {},
   "outputs": [
    {
     "data": {
      "text/plain": [
       "False"
      ]
     },
     "execution_count": 181,
     "metadata": {},
     "output_type": "execute_result"
    }
   ],
   "source": [
    "bool({})"
   ]
  },
  {
   "cell_type": "code",
   "execution_count": 183,
   "id": "369dbe7e-0375-4c15-89a1-d21b0341aba9",
   "metadata": {},
   "outputs": [
    {
     "data": {
      "text/plain": [
       "False"
      ]
     },
     "execution_count": 183,
     "metadata": {},
     "output_type": "execute_result"
    }
   ],
   "source": [
    "bool([])"
   ]
  },
  {
   "cell_type": "markdown",
   "id": "cb0c8db1-0177-4d3f-b21b-611bdd3d207f",
   "metadata": {},
   "source": [
    "**STRING**"
   ]
  },
  {
   "cell_type": "code",
   "execution_count": 188,
   "id": "72cb6030-53f0-4e95-add1-85eda457a91f",
   "metadata": {},
   "outputs": [],
   "source": [
    "str = \"python\""
   ]
  },
  {
   "cell_type": "code",
   "execution_count": 190,
   "id": "8eb543ad-80a5-46eb-a2c0-a9274b286748",
   "metadata": {},
   "outputs": [
    {
     "data": {
      "text/plain": [
       "'p'"
      ]
     },
     "execution_count": 190,
     "metadata": {},
     "output_type": "execute_result"
    }
   ],
   "source": [
    "str[0]"
   ]
  },
  {
   "cell_type": "code",
   "execution_count": 192,
   "id": "e21dba0d-a7a2-4049-8a78-f977f61f2231",
   "metadata": {},
   "outputs": [
    {
     "ename": "SyntaxError",
     "evalue": "invalid syntax (3381385473.py, line 1)",
     "output_type": "error",
     "traceback": [
      "\u001b[0;36m  Cell \u001b[0;32mIn[192], line 1\u001b[0;36m\u001b[0m\n\u001b[0;31m    str2 = `okegas`\u001b[0m\n\u001b[0m           ^\u001b[0m\n\u001b[0;31mSyntaxError\u001b[0m\u001b[0;31m:\u001b[0m invalid syntax\n"
     ]
    }
   ],
   "source": [
    "str2 = `okegas`"
   ]
  },
  {
   "cell_type": "code",
   "execution_count": 194,
   "id": "3ca0d803-ebf2-40e7-b285-938300afde8f",
   "metadata": {},
   "outputs": [
    {
     "data": {
      "text/plain": [
       "'h'"
      ]
     },
     "execution_count": 194,
     "metadata": {},
     "output_type": "execute_result"
    }
   ],
   "source": [
    "str[-3]"
   ]
  },
  {
   "cell_type": "code",
   "execution_count": 196,
   "id": "41c257eb-f199-4092-bce6-b58cedd8b004",
   "metadata": {},
   "outputs": [
    {
     "ename": "IndexError",
     "evalue": "string index out of range",
     "output_type": "error",
     "traceback": [
      "\u001b[0;31m---------------------------------------------------------------------------\u001b[0m",
      "\u001b[0;31mIndexError\u001b[0m                                Traceback (most recent call last)",
      "Cell \u001b[0;32mIn[196], line 1\u001b[0m\n\u001b[0;32m----> 1\u001b[0m \u001b[38;5;28mstr\u001b[39m[\u001b[38;5;241m-\u001b[39m\u001b[38;5;241m10\u001b[39m]\n",
      "\u001b[0;31mIndexError\u001b[0m: string index out of range"
     ]
    }
   ],
   "source": [
    "str[-10]"
   ]
  },
  {
   "cell_type": "code",
   "execution_count": 202,
   "id": "e3a50124-34bd-4057-b3e8-5a0e96dd4e3a",
   "metadata": {},
   "outputs": [
    {
     "data": {
      "text/plain": [
       "6"
      ]
     },
     "execution_count": 202,
     "metadata": {},
     "output_type": "execute_result"
    }
   ],
   "source": [
    "len(str)"
   ]
  },
  {
   "cell_type": "code",
   "execution_count": 206,
   "id": "dc442c80-4a8e-45fa-8efc-514aa252dc61",
   "metadata": {},
   "outputs": [
    {
     "data": {
      "text/plain": [
       "'n'"
      ]
     },
     "execution_count": 206,
     "metadata": {},
     "output_type": "execute_result"
    }
   ],
   "source": [
    "str[-1]"
   ]
  },
  {
   "cell_type": "code",
   "execution_count": 208,
   "id": "9c018ac3-3515-4601-ba13-cac280d1e2b2",
   "metadata": {},
   "outputs": [
    {
     "data": {
      "text/plain": [
       "'pyt'"
      ]
     },
     "execution_count": 208,
     "metadata": {},
     "output_type": "execute_result"
    }
   ],
   "source": [
    "str[0:3]"
   ]
  },
  {
   "cell_type": "code",
   "execution_count": 210,
   "id": "0ab966bc-5101-49a5-8a4d-f9ad5675f1fd",
   "metadata": {},
   "outputs": [
    {
     "data": {
      "text/plain": [
       "'thon'"
      ]
     },
     "execution_count": 210,
     "metadata": {},
     "output_type": "execute_result"
    }
   ],
   "source": [
    "str[2:]"
   ]
  },
  {
   "cell_type": "code",
   "execution_count": 214,
   "id": "a0831626-6928-4a64-aacc-5c3dbec2132f",
   "metadata": {},
   "outputs": [
    {
     "data": {
      "text/plain": [
       "'pytho'"
      ]
     },
     "execution_count": 214,
     "metadata": {},
     "output_type": "execute_result"
    }
   ],
   "source": [
    "str[:5]"
   ]
  },
  {
   "cell_type": "code",
   "execution_count": 216,
   "id": "f4c78440-c960-4910-b71d-427741eaff23",
   "metadata": {},
   "outputs": [
    {
     "data": {
      "text/plain": [
       "'python'"
      ]
     },
     "execution_count": 216,
     "metadata": {},
     "output_type": "execute_result"
    }
   ],
   "source": [
    "str[:]"
   ]
  },
  {
   "cell_type": "code",
   "execution_count": 218,
   "id": "2bf9f3c9-f965-458b-a213-b7ea2b9b0748",
   "metadata": {},
   "outputs": [
    {
     "data": {
      "text/plain": [
       "'python'"
      ]
     },
     "execution_count": 218,
     "metadata": {},
     "output_type": "execute_result"
    }
   ],
   "source": [
    "str[0:6]"
   ]
  },
  {
   "cell_type": "code",
   "execution_count": 222,
   "id": "5dde9dbb-ddf5-4484-829d-dafaaf2a94fd",
   "metadata": {},
   "outputs": [
    {
     "data": {
      "text/plain": [
       "'pto'"
      ]
     },
     "execution_count": 222,
     "metadata": {},
     "output_type": "execute_result"
    }
   ],
   "source": [
    "str[0:6:2]"
   ]
  },
  {
   "cell_type": "code",
   "execution_count": 232,
   "id": "fcfa7438-a87e-4367-9b35-ed6db47b32a6",
   "metadata": {},
   "outputs": [
    {
     "data": {
      "text/plain": [
       "'ph'"
      ]
     },
     "execution_count": 232,
     "metadata": {},
     "output_type": "execute_result"
    }
   ],
   "source": [
    "str[:6:3]"
   ]
  },
  {
   "cell_type": "code",
   "execution_count": 234,
   "id": "5b4f28c9-aeac-4a8d-8a78-61ed32d50f76",
   "metadata": {},
   "outputs": [
    {
     "data": {
      "text/plain": [
       "'python'"
      ]
     },
     "execution_count": 234,
     "metadata": {},
     "output_type": "execute_result"
    }
   ],
   "source": [
    "str[::]"
   ]
  },
  {
   "cell_type": "code",
   "execution_count": 236,
   "id": "b7005bc4-d31f-48d7-bb5a-7123ba930bb9",
   "metadata": {},
   "outputs": [
    {
     "data": {
      "text/plain": [
       "'nohtyp'"
      ]
     },
     "execution_count": 236,
     "metadata": {},
     "output_type": "execute_result"
    }
   ],
   "source": [
    "str[::-1]"
   ]
  },
  {
   "cell_type": "code",
   "execution_count": 256,
   "id": "188eb4e0-1db7-4366-988d-ca078f30547d",
   "metadata": {},
   "outputs": [
    {
     "data": {
      "text/plain": [
       "'pythonpythonpythonpythonpython'"
      ]
     },
     "execution_count": 256,
     "metadata": {},
     "output_type": "execute_result"
    }
   ],
   "source": [
    "str *5"
   ]
  },
  {
   "cell_type": "code",
   "execution_count": 266,
   "id": "d739e17a-d11d-4ef7-8991-59cf47ee5a8d",
   "metadata": {},
   "outputs": [
    {
     "data": {
      "text/plain": [
       "'python 4'"
      ]
     },
     "execution_count": 266,
     "metadata": {},
     "output_type": "execute_result"
    }
   ],
   "source": [
    "str+\" 4\""
   ]
  },
  {
   "cell_type": "code",
   "execution_count": 262,
   "id": "7178e9dc-d7c7-4519-a1be-6cfc6e39f16d",
   "metadata": {},
   "outputs": [
    {
     "data": {
      "text/plain": [
       "'python'"
      ]
     },
     "execution_count": 262,
     "metadata": {},
     "output_type": "execute_result"
    }
   ],
   "source": [
    "str"
   ]
  },
  {
   "cell_type": "code",
   "execution_count": 268,
   "id": "7abb35ba-5d5d-46fe-bce7-ce84f737aba6",
   "metadata": {},
   "outputs": [
    {
     "data": {
      "text/plain": [
       "'Hello Hello Hello Hello Hello Hello Hello Hello Hello Hello Hello Hello Hello Hello Hello Hello Hello Hello Hello Hello Hello Hello Hello Hello Hello Hello Hello Hello Hello Hello Hello Hello Hello Hello Hello Hello Hello Hello Hello Hello Hello Hello Hello Hello Hello Hello Hello Hello Hello Hello Hello Hello Hello Hello Hello Hello Hello Hello Hello Hello Hello Hello Hello Hello Hello Hello Hello Hello Hello Hello Hello Hello Hello Hello Hello Hello Hello Hello Hello Hello Hello Hello Hello Hello Hello Hello Hello Hello Hello Hello Hello Hello Hello Hello Hello Hello Hello Hello Hello Hello Hello Hello Hello Hello Hello Hello Hello Hello Hello Hello Hello Hello Hello Hello Hello Hello Hello Hello Hello Hello Hello Hello Hello Hello Hello Hello Hello Hello Hello Hello Hello Hello Hello Hello Hello Hello Hello Hello Hello Hello Hello Hello Hello Hello Hello Hello Hello Hello Hello Hello Hello Hello Hello Hello Hello Hello Hello Hello Hello Hello Hello Hello Hello Hello Hello Hello Hello Hello Hello Hello Hello Hello Hello Hello Hello Hello Hello Hello Hello Hello Hello Hello Hello Hello Hello Hello Hello Hello Hello Hello Hello Hello Hello Hello Hello Hello Hello Hello Hello Hello '"
      ]
     },
     "execution_count": 268,
     "metadata": {},
     "output_type": "execute_result"
    }
   ],
   "source": [
    "\"Hello \" *200"
   ]
  },
  {
   "cell_type": "code",
   "execution_count": 290,
   "id": "2b6887c7-2134-471a-8ef5-ddaa839a2f2f",
   "metadata": {},
   "outputs": [
    {
     "data": {
      "text/plain": [
       "['Python', 'PYTHON', 'python', 6]"
      ]
     },
     "execution_count": 290,
     "metadata": {},
     "output_type": "execute_result"
    }
   ],
   "source": [
    "[str.capitalize(), str.upper(), str.lower(), len(str)]"
   ]
  },
  {
   "cell_type": "code",
   "execution_count": 288,
   "id": "3e8ef053-86b9-4e8c-8db7-b3490876466d",
   "metadata": {},
   "outputs": [
    {
     "data": {
      "text/plain": [
       "'hello world'"
      ]
     },
     "execution_count": 288,
     "metadata": {},
     "output_type": "execute_result"
    }
   ],
   "source": [
    "\"     hello world    \".strip() #like trim in js"
   ]
  },
  {
   "cell_type": "code",
   "execution_count": 294,
   "id": "83aa7566-7112-42a1-8692-7ec925ed04ff",
   "metadata": {},
   "outputs": [
    {
     "name": "stdout",
     "output_type": "stream",
     "text": [
      "kemal \n",
      " aditya\n"
     ]
    }
   ],
   "source": [
    "print(\"kemal \\n aditya\")"
   ]
  },
  {
   "cell_type": "code",
   "execution_count": 300,
   "id": "e8d0f15e-5ba9-419f-ac04-6fb982fc20c8",
   "metadata": {},
   "outputs": [
    {
     "name": "stdout",
     "output_type": "stream",
     "text": [
      "\t kemal \n",
      " aditya\n"
     ]
    }
   ],
   "source": [
    "print(\"\\t kemal \\n aditya\")"
   ]
  },
  {
   "cell_type": "code",
   "execution_count": 302,
   "id": "37185a4d-0f68-4aab-b904-987560da2775",
   "metadata": {},
   "outputs": [
    {
     "name": "stdout",
     "output_type": "stream",
     "text": [
      "kemal aditya master of python\n"
     ]
    }
   ],
   "source": [
    "print(\"kemal aditya master of %s\"%(str))"
   ]
  },
  {
   "cell_type": "code",
   "execution_count": 304,
   "id": "21054ade-7787-467f-9cc2-ffde959c4702",
   "metadata": {},
   "outputs": [
    {
     "name": "stdout",
     "output_type": "stream",
     "text": [
      "kemal aditya master of 'python'\n"
     ]
    }
   ],
   "source": [
    "print(\"kemal aditya master of %r\"%(str))"
   ]
  },
  {
   "cell_type": "code",
   "execution_count": 310,
   "id": "a5b1f2ae-a899-4c30-a901-1e0628ac601b",
   "metadata": {},
   "outputs": [
    {
     "name": "stdout",
     "output_type": "stream",
     "text": [
      "IPK saya adalah of 4\n"
     ]
    }
   ],
   "source": [
    "print(\"IPK saya adalah of %d\"%(4.0))"
   ]
  },
  {
   "cell_type": "code",
   "execution_count": 334,
   "id": "b36fea9e-52e1-4920-aaf6-12a298b1c96f",
   "metadata": {},
   "outputs": [
    {
     "data": {
      "text/plain": [
       "'python IPK saya adalah of 4.000000'"
      ]
     },
     "execution_count": 334,
     "metadata": {},
     "output_type": "execute_result"
    }
   ],
   "source": [
    "\"%s IPK saya adalah of %f\"%(str,4.0) #modulo yg di panggil harus di define berurutan"
   ]
  },
  {
   "cell_type": "code",
   "execution_count": 338,
   "id": "b2df722c-8559-4195-9cd3-3f6c435236ab",
   "metadata": {},
   "outputs": [
    {
     "data": {
      "text/plain": [
       "'python IPK saya adalah of 4.00'"
      ]
     },
     "execution_count": 338,
     "metadata": {},
     "output_type": "execute_result"
    }
   ],
   "source": [
    "\"%s IPK saya adalah of %1.2f\"%(str,4.0) #float nol belakang titiknya di define jd presisi 1.2"
   ]
  },
  {
   "cell_type": "code",
   "execution_count": 346,
   "id": "283d6728-a032-48f3-8254-ef4aa307d7b1",
   "metadata": {},
   "outputs": [
    {
     "data": {
      "text/plain": [
       "'IPK saya adalah of python dsfsddsf'"
      ]
     },
     "execution_count": 346,
     "metadata": {},
     "output_type": "execute_result"
    }
   ],
   "source": [
    "\"IPK saya adalah of {} {}\".format(str,'dsfsddsf')"
   ]
  },
  {
   "cell_type": "code",
   "execution_count": 354,
   "id": "320d6ddc-6882-4810-b744-9e3f8663e8a9",
   "metadata": {},
   "outputs": [
    {
     "data": {
      "text/plain": [
       "'IPK saya adalah of dsfsddsf python dsfsddsf'"
      ]
     },
     "execution_count": 354,
     "metadata": {},
     "output_type": "execute_result"
    }
   ],
   "source": [
    "\"IPK saya adalah of {1} {0} {1}\".format(str,'dsfsddsf')"
   ]
  },
  {
   "cell_type": "code",
   "execution_count": 362,
   "id": "76ad61af-bd47-4789-aabf-886e72e6ca58",
   "metadata": {},
   "outputs": [
    {
     "data": {
      "text/plain": [
       "'IPK saya adalah of kemal saya suka python saya pake selama 20 tahun, by kemal'"
      ]
     },
     "execution_count": 362,
     "metadata": {},
     "output_type": "execute_result"
    }
   ],
   "source": [
    "# I THINK THIS IS BEST PRACTICE\n",
    "\"IPK saya adalah of {nama} saya suka {bahasa} saya pake selama {umur} tahun, by {nama}\".format(bahasa = str, umur =20, nama = 'kemal') "
   ]
  },
  {
   "cell_type": "code",
   "execution_count": 364,
   "id": "f805bf27-2d12-478a-acce-2064b474be07",
   "metadata": {},
   "outputs": [
    {
     "data": {
      "text/plain": [
       "'nilai saya 20.00'"
      ]
     },
     "execution_count": 364,
     "metadata": {},
     "output_type": "execute_result"
    }
   ],
   "source": [
    "\"nilai saya {umur:1.2f}\".format(bahasa = str, umur =20, nama = 'kemal') "
   ]
  },
  {
   "cell_type": "code",
   "execution_count": 367,
   "id": "eca33bf7-5200-4465-b22e-fad9c01bf540",
   "metadata": {},
   "outputs": [],
   "source": [
    "#MORE BEST PRACTICE with f-string"
   ]
  },
  {
   "cell_type": "code",
   "execution_count": 379,
   "id": "1774247f-ba01-4459-aaa4-3eb949ca53b3",
   "metadata": {},
   "outputs": [
    {
     "data": {
      "text/plain": [
       "'saya suka python python python python python python python python python python python python python python python python python python python python  nilai IPK saya 4.00'"
      ]
     },
     "execution_count": 379,
     "metadata": {},
     "output_type": "execute_result"
    }
   ],
   "source": [
    "f\"saya suka {(str+\" \")*20} nilai IPK saya {4:1.2f}\""
   ]
  },
  {
   "cell_type": "code",
   "execution_count": null,
   "id": "1fb7207a-1d8c-4920-b1e1-15a3d420c35e",
   "metadata": {},
   "outputs": [],
   "source": []
  },
  {
   "cell_type": "code",
   "execution_count": null,
   "id": "357a5688-9f1c-4225-88b4-0d384c64709d",
   "metadata": {},
   "outputs": [],
   "source": []
  },
  {
   "cell_type": "code",
   "execution_count": null,
   "id": "092e3f82-557e-411a-9de7-42bf3985f947",
   "metadata": {},
   "outputs": [],
   "source": []
  },
  {
   "cell_type": "code",
   "execution_count": null,
   "id": "cf7678ee-caf6-40ca-8297-a631a844004c",
   "metadata": {},
   "outputs": [],
   "source": []
  },
  {
   "cell_type": "code",
   "execution_count": null,
   "id": "f4461353-61a7-459a-b3c3-4e75a6568878",
   "metadata": {},
   "outputs": [],
   "source": []
  },
  {
   "cell_type": "markdown",
   "id": "b8773d38-78e6-4d90-85aa-08ecf1e87255",
   "metadata": {},
   "source": [
    "**LIST**"
   ]
  },
  {
   "cell_type": "code",
   "execution_count": 388,
   "id": "ad248f16-dcea-48ba-bfe2-35ba560a92ae",
   "metadata": {},
   "outputs": [
    {
     "data": {
      "text/plain": [
       "[1, 2, 3, 4, 5, 56, 6, 76, 76]"
      ]
     },
     "execution_count": 388,
     "metadata": {},
     "output_type": "execute_result"
    }
   ],
   "source": [
    "[1,2,3,4,5,56,6,76,76] # array kalo di js"
   ]
  },
  {
   "cell_type": "code",
   "execution_count": 392,
   "id": "27364024-217d-45af-a6d5-b9d9e46e61cf",
   "metadata": {},
   "outputs": [],
   "source": [
    " a = ['kemal','aditya','zulfikar',1,2,3]"
   ]
  },
  {
   "cell_type": "code",
   "execution_count": 400,
   "id": "1613cbec-8a67-4450-99f2-254690244a26",
   "metadata": {},
   "outputs": [
    {
     "data": {
      "text/plain": [
       "['kemal', 'aditya']"
      ]
     },
     "execution_count": 400,
     "metadata": {},
     "output_type": "execute_result"
    }
   ],
   "source": [
    "a[:2]"
   ]
  },
  {
   "cell_type": "code",
   "execution_count": 418,
   "id": "54260931-718a-4c5e-a8c1-550a37a25995",
   "metadata": {},
   "outputs": [
    {
     "data": {
      "text/plain": [
       "['aditya', 'zulfikar']"
      ]
     },
     "execution_count": 418,
     "metadata": {},
     "output_type": "execute_result"
    }
   ],
   "source": [
    "a[1:3] #slicing, mulai dari index 1 sampai berhenti di index 3"
   ]
  },
  {
   "cell_type": "markdown",
   "id": "c334ea1d-5b4f-449d-8af7-f3f650706d00",
   "metadata": {},
   "source": [
    "**list berupa mutable** / bisa di ubah2 value isinya berbeda dengan string"
   ]
  },
  {
   "cell_type": "code",
   "execution_count": 423,
   "id": "cc8fa8e7-9c5b-4ab6-a3fe-20ac68a9763d",
   "metadata": {},
   "outputs": [
    {
     "name": "stdout",
     "output_type": "stream",
     "text": [
      "['Eren', 'aditya', 'zulfikar']\n"
     ]
    }
   ],
   "source": [
    "a[0] = 'Eren'\n",
    "print(a)"
   ]
  },
  {
   "cell_type": "code",
   "execution_count": 426,
   "id": "22709e2a-1dbc-434d-9dec-59b29a7bebd5",
   "metadata": {},
   "outputs": [],
   "source": [
    "b = [100,200,300]"
   ]
  },
  {
   "cell_type": "code",
   "execution_count": 430,
   "id": "15d5a866-72c2-4301-8df1-b8f4a2e30090",
   "metadata": {},
   "outputs": [
    {
     "data": {
      "text/plain": [
       "['Eren', 'aditya', 'zulfikar', 100, 200, 300]"
      ]
     },
     "execution_count": 430,
     "metadata": {},
     "output_type": "execute_result"
    }
   ],
   "source": [
    "a+b  #concat / merge 2 list"
   ]
  },
  {
   "cell_type": "code",
   "execution_count": 434,
   "id": "e7a1d92f-c839-422e-9791-75f85e25885e",
   "metadata": {},
   "outputs": [
    {
     "data": {
      "text/plain": [
       "['Eren', 'aditya', 'zulfikar', 'Eren', 'aditya', 'zulfikar']"
      ]
     },
     "execution_count": 434,
     "metadata": {},
     "output_type": "execute_result"
    }
   ],
   "source": [
    "a*2"
   ]
  },
  {
   "cell_type": "code",
   "execution_count": 456,
   "id": "a794f26f-82f9-4b49-8639-e39d1414dae8",
   "metadata": {},
   "outputs": [],
   "source": [
    "buah = ['apple', 'pisang', 'mangga']\n",
    "mobil = ['toyota', 'bmw', 'mercy']"
   ]
  },
  {
   "cell_type": "code",
   "execution_count": 458,
   "id": "2414ec08-ad87-40ab-ad66-069a50eb7aec",
   "metadata": {},
   "outputs": [
    {
     "data": {
      "text/plain": [
       "['apple', 'pisang', 'mangga', 'MARKISA']"
      ]
     },
     "execution_count": 458,
     "metadata": {},
     "output_type": "execute_result"
    }
   ],
   "source": [
    "buah.append('MARKISA')\n",
    "buah"
   ]
  },
  {
   "cell_type": "code",
   "execution_count": 462,
   "id": "2270bae2-1bc9-4f35-91cf-4817aab6dc87",
   "metadata": {},
   "outputs": [
    {
     "data": {
      "text/plain": [
       "['MARKISA', 'apple', 'mangga', 'pisang']"
      ]
     },
     "execution_count": 462,
     "metadata": {},
     "output_type": "execute_result"
    }
   ],
   "source": [
    "buah.sort()\n",
    "buah"
   ]
  },
  {
   "cell_type": "code",
   "execution_count": 464,
   "id": "cd78efce-6a94-4dfc-95cb-9118e8cc5790",
   "metadata": {},
   "outputs": [
    {
     "data": {
      "text/plain": [
       "['pisang', 'mangga', 'apple', 'MARKISA']"
      ]
     },
     "execution_count": 464,
     "metadata": {},
     "output_type": "execute_result"
    }
   ],
   "source": [
    "buah.sort(reverse=True)\n",
    "buah"
   ]
  },
  {
   "cell_type": "code",
   "execution_count": 466,
   "id": "77eb8d09-57b0-4729-b818-1cfac57fbdfa",
   "metadata": {},
   "outputs": [
    {
     "data": {
      "text/plain": [
       "['toyota', 'bmw', 'mercy']"
      ]
     },
     "execution_count": 466,
     "metadata": {},
     "output_type": "execute_result"
    }
   ],
   "source": [
    "mobil\n"
   ]
  },
  {
   "cell_type": "code",
   "execution_count": 472,
   "id": "e12bd718-9ef1-42ac-bfae-ea62c96b9ab7",
   "metadata": {},
   "outputs": [
    {
     "data": {
      "text/plain": [
       "['mercy', 'bmw', 'toyota']"
      ]
     },
     "execution_count": 472,
     "metadata": {},
     "output_type": "execute_result"
    }
   ],
   "source": [
    "mobil.reverse()\n",
    "mobil"
   ]
  },
  {
   "cell_type": "code",
   "execution_count": 476,
   "id": "b622813d-e76e-46f3-84c7-a8ef15a75748",
   "metadata": {},
   "outputs": [
    {
     "data": {
      "text/plain": [
       "[]"
      ]
     },
     "execution_count": 476,
     "metadata": {},
     "output_type": "execute_result"
    }
   ],
   "source": [
    "mobil.clear()\n",
    "mobil"
   ]
  },
  {
   "cell_type": "code",
   "execution_count": 486,
   "id": "8f735841-c92c-4fcd-9b5f-fffd3180419c",
   "metadata": {},
   "outputs": [
    {
     "data": {
      "text/plain": [
       "[1, 2, 4, 5, 6, 7, 8, 9]"
      ]
     },
     "execution_count": 486,
     "metadata": {},
     "output_type": "execute_result"
    }
   ],
   "source": [
    "testpop = [1,2,3,4,5,6,7,8,9]\n",
    "testpop.pop(2)\n",
    "testpop"
   ]
  },
  {
   "cell_type": "code",
   "execution_count": 492,
   "id": "1b264323-5dcb-4000-b864-c6b5839fbb04",
   "metadata": {},
   "outputs": [
    {
     "data": {
      "text/plain": [
       "[1, 2, 3, 4, 5, 6]"
      ]
     },
     "execution_count": 492,
     "metadata": {},
     "output_type": "execute_result"
    }
   ],
   "source": [
    "#tupple to list\n",
    "mytuple = (1,2,3,4,5,6)\n",
    "list(mytuple)"
   ]
  },
  {
   "cell_type": "code",
   "execution_count": 494,
   "id": "5d8b855f-7518-4a59-bc10-0308efbad83d",
   "metadata": {},
   "outputs": [
    {
     "data": {
      "text/plain": [
       "['k', 'e', 'm', 'a', 'l']"
      ]
     },
     "execution_count": 494,
     "metadata": {},
     "output_type": "execute_result"
    }
   ],
   "source": [
    "#string to list\n",
    "data = \"kemal\"\n",
    "list(data)"
   ]
  },
  {
   "cell_type": "code",
   "execution_count": 504,
   "id": "353dbf24-ecab-479c-a09b-61a423c384d1",
   "metadata": {},
   "outputs": [
    {
     "name": "stdout",
     "output_type": "stream",
     "text": [
      "100\n",
      "1\n",
      "<class 'list'>\n"
     ]
    }
   ],
   "source": [
    "#cary yg terbesar/ terkecil\n",
    "mymaxmin = [1,2,3,4,5,100, 33]\n",
    "print(max(mymaxmin))\n",
    "print(min(mymaxmin))\n",
    "print(type(mymaxmin))"
   ]
  },
  {
   "cell_type": "code",
   "execution_count": null,
   "id": "1ddff5a6-4130-408c-96cf-7d6500e88f90",
   "metadata": {},
   "outputs": [],
   "source": []
  },
  {
   "cell_type": "code",
   "execution_count": null,
   "id": "83658903-cd90-414b-83f6-03edb8e68d2c",
   "metadata": {},
   "outputs": [],
   "source": []
  },
  {
   "cell_type": "code",
   "execution_count": null,
   "id": "eb1ff41e-eb9c-4aef-87ac-2258ae616f40",
   "metadata": {},
   "outputs": [],
   "source": []
  },
  {
   "cell_type": "code",
   "execution_count": null,
   "id": "3135de93-d9fa-4646-bd4d-50dfef9a3a7c",
   "metadata": {},
   "outputs": [],
   "source": []
  },
  {
   "cell_type": "code",
   "execution_count": null,
   "id": "3cd0fdac-f238-42a4-8148-e76bc0e2d6c0",
   "metadata": {},
   "outputs": [],
   "source": []
  },
  {
   "cell_type": "markdown",
   "id": "cd42082c-3c6d-4f11-84f6-30781266e92c",
   "metadata": {},
   "source": [
    "**TUPPLE** **TUPPLE** **TUPPLE** **TUPPLE** **TUPPLE**\n",
    "**TUPPLE**\n",
    "**TUPPLE**\n",
    "**TUPPLE**\n",
    "**TUPPLE**"
   ]
  },
  {
   "cell_type": "code",
   "execution_count": 680,
   "id": "97e91778-aa5a-4295-aa3c-c43116e9b668",
   "metadata": {},
   "outputs": [],
   "source": [
    "# DIFFERENCE TUPPLE AND LIST IS TUPPLE HAS IMMUTABLE, MEANS CANNOT MODIFY LIKES LIST DO\n",
    "# just likes string"
   ]
  },
  {
   "cell_type": "code",
   "execution_count": 511,
   "id": "d7a4209a-3641-433a-acfa-4982bc607d10",
   "metadata": {},
   "outputs": [
    {
     "data": {
      "text/plain": [
       "(1, 2, 3, 4, 5, 'string here', ['okegas', 100], (6, 6, 6))"
      ]
     },
     "execution_count": 511,
     "metadata": {},
     "output_type": "execute_result"
    }
   ],
   "source": [
    "(1,2,3,4,5, 'string here', ['okegas',100], (6,6,6))"
   ]
  },
  {
   "cell_type": "code",
   "execution_count": 535,
   "id": "d5cb1a6e-405d-45ca-841a-e50a3887e913",
   "metadata": {},
   "outputs": [],
   "source": [
    "mytup = (1,2,3,4,5,6)"
   ]
  },
  {
   "cell_type": "code",
   "execution_count": 537,
   "id": "030fd278-4921-4a40-a371-f2fe3e386d84",
   "metadata": {},
   "outputs": [
    {
     "data": {
      "text/plain": [
       "(1, 2, 3)"
      ]
     },
     "execution_count": 537,
     "metadata": {},
     "output_type": "execute_result"
    }
   ],
   "source": [
    "mytup[0:3]"
   ]
  },
  {
   "cell_type": "code",
   "execution_count": 539,
   "id": "6f8f97df-db75-4fa3-9035-290b5bfcea97",
   "metadata": {},
   "outputs": [
    {
     "data": {
      "text/plain": [
       "6"
      ]
     },
     "execution_count": 539,
     "metadata": {},
     "output_type": "execute_result"
    }
   ],
   "source": [
    "mytup[5]"
   ]
  },
  {
   "cell_type": "code",
   "execution_count": 541,
   "id": "93de122e-13d4-4585-a40e-1113a4677d52",
   "metadata": {},
   "outputs": [],
   "source": [
    "#immutable example"
   ]
  },
  {
   "cell_type": "code",
   "execution_count": 543,
   "id": "e7ee66a1-ae9d-4776-aa4c-116487318e3c",
   "metadata": {},
   "outputs": [
    {
     "ename": "TypeError",
     "evalue": "'tuple' object does not support item assignment",
     "output_type": "error",
     "traceback": [
      "\u001b[0;31m---------------------------------------------------------------------------\u001b[0m",
      "\u001b[0;31mTypeError\u001b[0m                                 Traceback (most recent call last)",
      "Cell \u001b[0;32mIn[543], line 1\u001b[0m\n\u001b[0;32m----> 1\u001b[0m mytup[\u001b[38;5;241m1\u001b[39m] \u001b[38;5;241m=\u001b[39m \u001b[38;5;124m'\u001b[39m\u001b[38;5;124mokegas\u001b[39m\u001b[38;5;124m'\u001b[39m\n",
      "\u001b[0;31mTypeError\u001b[0m: 'tuple' object does not support item assignment"
     ]
    }
   ],
   "source": [
    "mytup[1] = 'okegas'"
   ]
  },
  {
   "cell_type": "code",
   "execution_count": 549,
   "id": "d082a2a6-2239-4ec0-a50f-9e8f81975b84",
   "metadata": {},
   "outputs": [
    {
     "data": {
      "text/plain": [
       "(1, 2, 3, 'sayang', 'semuanya')"
      ]
     },
     "execution_count": 549,
     "metadata": {},
     "output_type": "execute_result"
    }
   ],
   "source": [
    "#concat\n",
    "(1,2,3) + (\"sayang\", \"semuanya\")"
   ]
  },
  {
   "cell_type": "code",
   "execution_count": 557,
   "id": "8929238f-415c-493b-a8fb-d70ae6c1a23e",
   "metadata": {},
   "outputs": [
    {
     "data": {
      "text/plain": [
       "2"
      ]
     },
     "execution_count": 557,
     "metadata": {},
     "output_type": "execute_result"
    }
   ],
   "source": [
    "#count\n",
    "(1,2,3,4,5,1,2, 'kemal', 'aditya', 'kemal').count('kemal')"
   ]
  },
  {
   "cell_type": "code",
   "execution_count": 571,
   "id": "807f54ad-d744-4fea-abcf-7125954eed05",
   "metadata": {},
   "outputs": [
    {
     "data": {
      "text/plain": [
       "7"
      ]
     },
     "execution_count": 571,
     "metadata": {},
     "output_type": "execute_result"
    }
   ],
   "source": [
    "# mencari index\n",
    "(1,2,3,4,5,1,2, 'kemal', 'aditya', 'kemal').index('kemal')"
   ]
  },
  {
   "cell_type": "code",
   "execution_count": 575,
   "id": "b55a2ef9-150b-4887-a6d5-2832fe322593",
   "metadata": {},
   "outputs": [
    {
     "data": {
      "text/plain": [
       "(1, 2, 3, 4, 5)"
      ]
     },
     "execution_count": 575,
     "metadata": {},
     "output_type": "execute_result"
    }
   ],
   "source": [
    "#list to tuple\n",
    "tuple([1,2,3,4,5])"
   ]
  },
  {
   "cell_type": "code",
   "execution_count": null,
   "id": "de0c20db-b716-4e74-8025-3b5ed64ba9cb",
   "metadata": {},
   "outputs": [],
   "source": []
  },
  {
   "cell_type": "code",
   "execution_count": null,
   "id": "e3a7c39f-110b-4671-9bc1-345307a53b2f",
   "metadata": {},
   "outputs": [],
   "source": []
  },
  {
   "cell_type": "code",
   "execution_count": null,
   "id": "63449600-8b7b-491b-8cdb-90bf4b5162e8",
   "metadata": {},
   "outputs": [],
   "source": []
  },
  {
   "cell_type": "code",
   "execution_count": null,
   "id": "a47a5e74-56bb-46fe-bd10-343e94490549",
   "metadata": {},
   "outputs": [],
   "source": []
  },
  {
   "cell_type": "code",
   "execution_count": null,
   "id": "e6f5b9b2-e66d-4439-b7e3-0631a529817b",
   "metadata": {},
   "outputs": [],
   "source": []
  },
  {
   "cell_type": "markdown",
   "id": "13dab4e1-e533-4db4-a821-df7ea7cc06be",
   "metadata": {},
   "source": [
    "**TIPE DATA \"SET\"**\n",
    "**TIPE DATA \"SET\"**\n",
    "**TIPE DATA \"SET\"**\n",
    "**TIPE DATA \"SET\"**\n",
    "**TIPE DATA \"SET\"**\n",
    "**TIPE DATA \"SET\"**"
   ]
  },
  {
   "cell_type": "code",
   "execution_count": 596,
   "id": "ab7e182f-2c68-4ab8-a813-c51e593de65f",
   "metadata": {},
   "outputs": [],
   "source": [
    "#tipe set mutable ( bisa di ubah valuenya) tapi tidak bisa indexing/slicing\n",
    "#data di dalamnya nya \"TIDAK BISA SAMA\"\n",
    "#auto sort\n",
    "# tidak dapat slicing / indexing exmple: myset[0]\n",
    "#ada fitur frozen set data menjadi IMUTABLE"
   ]
  },
  {
   "cell_type": "code",
   "execution_count": null,
   "id": "cb792ea6-b9b3-41a4-9712-465296077938",
   "metadata": {},
   "outputs": [],
   "source": []
  },
  {
   "cell_type": "code",
   "execution_count": 580,
   "id": "9500097a-d143-4165-8857-8fedb1773d27",
   "metadata": {},
   "outputs": [],
   "source": [
    "myset = {1,2,3,4,5,5,5,\"kemal\", \"aditya\"} # otomatis remove data yg sama"
   ]
  },
  {
   "cell_type": "code",
   "execution_count": 582,
   "id": "9e297b1b-3537-496f-ac24-0433f64de5b6",
   "metadata": {},
   "outputs": [
    {
     "data": {
      "text/plain": [
       "{1, 2, 3, 4, 5, 'aditya', 'kemal'}"
      ]
     },
     "execution_count": 582,
     "metadata": {},
     "output_type": "execute_result"
    }
   ],
   "source": [
    "myset"
   ]
  },
  {
   "cell_type": "code",
   "execution_count": 594,
   "id": "1d65784a-350f-436f-bae3-c313b34f8be5",
   "metadata": {},
   "outputs": [
    {
     "data": {
      "text/plain": [
       "{1, 1.2, 2, 3, 'a', 'b', 'c'}"
      ]
     },
     "execution_count": 594,
     "metadata": {},
     "output_type": "execute_result"
    }
   ],
   "source": [
    "{\"a\", 3,2,1,1.2, 'b', 'c'} # TIDAK BERURUTAN SESUAI yg di input / otomatis sort"
   ]
  },
  {
   "cell_type": "code",
   "execution_count": 600,
   "id": "de4ee054-ddbe-45e7-b416-4f7220dfbcb0",
   "metadata": {},
   "outputs": [
    {
     "data": {
      "text/plain": [
       "{1, 2, 3, 4, 5, 6, 7, 8, 9}"
      ]
     },
     "execution_count": 600,
     "metadata": {},
     "output_type": "execute_result"
    }
   ],
   "source": [
    "# union /manggabungkan\n",
    "a = {1,2,3,4,5}\n",
    "b={4,5,6,7,8,9}\n",
    "a.union(b)"
   ]
  },
  {
   "cell_type": "code",
   "execution_count": 602,
   "id": "05306d85-b5da-4f63-9779-f445ef9d7120",
   "metadata": {},
   "outputs": [
    {
     "data": {
      "text/plain": [
       "{1, 2, 3, 4, 5, 6, 7, 8, 9}"
      ]
     },
     "execution_count": 602,
     "metadata": {},
     "output_type": "execute_result"
    }
   ],
   "source": [
    "a|b #lebih simple"
   ]
  },
  {
   "cell_type": "code",
   "execution_count": 608,
   "id": "bb8c0554-4aa4-4e7c-ab78-94f046d8d5ee",
   "metadata": {},
   "outputs": [
    {
     "data": {
      "text/plain": [
       "{4, 5}"
      ]
     },
     "execution_count": 608,
     "metadata": {},
     "output_type": "execute_result"
    }
   ],
   "source": [
    "# intersection cek value yg sama\n",
    "a.intersection(b)"
   ]
  },
  {
   "cell_type": "code",
   "execution_count": 610,
   "id": "9242010a-db00-43cb-a789-2af58ad7216a",
   "metadata": {},
   "outputs": [
    {
     "data": {
      "text/plain": [
       "{4, 5}"
      ]
     },
     "execution_count": 610,
     "metadata": {},
     "output_type": "execute_result"
    }
   ],
   "source": [
    "a&b #simplify"
   ]
  },
  {
   "cell_type": "code",
   "execution_count": 612,
   "id": "054ad26b-1af7-4fe5-9e2d-a3cf1bbc6f5d",
   "metadata": {},
   "outputs": [
    {
     "data": {
      "text/plain": [
       "{1, 2, 3}"
      ]
     },
     "execution_count": 612,
     "metadata": {},
     "output_type": "execute_result"
    }
   ],
   "source": [
    "# diffrence menemukan perbedaan a di b \n",
    "a.difference(b)"
   ]
  },
  {
   "cell_type": "code",
   "execution_count": 614,
   "id": "5d784b06-443e-4761-a30d-e4278ef3fa84",
   "metadata": {},
   "outputs": [
    {
     "data": {
      "text/plain": [
       "{6, 7, 8, 9}"
      ]
     },
     "execution_count": 614,
     "metadata": {},
     "output_type": "execute_result"
    }
   ],
   "source": [
    "b.difference(a)"
   ]
  },
  {
   "cell_type": "code",
   "execution_count": 618,
   "id": "c1691090-4194-4bed-aaac-4368d0250a7b",
   "metadata": {},
   "outputs": [
    {
     "data": {
      "text/plain": [
       "{1, 2, 3, 6, 7, 8, 9}"
      ]
     },
     "execution_count": 618,
     "metadata": {},
     "output_type": "execute_result"
    }
   ],
   "source": [
    "# symmetric_difference kebalikan dari intersection (tanpa menampilkan data yg sama)\n",
    "a.symmetric_difference(b)"
   ]
  },
  {
   "cell_type": "code",
   "execution_count": 620,
   "id": "90d642db-4d60-4a2d-9b63-abe4df0d7214",
   "metadata": {},
   "outputs": [
    {
     "data": {
      "text/plain": [
       "{1, 2, 3, 6, 7, 8, 9}"
      ]
     },
     "execution_count": 620,
     "metadata": {},
     "output_type": "execute_result"
    }
   ],
   "source": [
    "a^b #simplify"
   ]
  },
  {
   "cell_type": "code",
   "execution_count": 628,
   "id": "cac18abb-cb99-4453-827d-d4c2d9d55c98",
   "metadata": {},
   "outputs": [
    {
     "data": {
      "text/plain": [
       "{1, 2, 3, 4, 5, 'saya baru disini'}"
      ]
     },
     "execution_count": 628,
     "metadata": {},
     "output_type": "execute_result"
    }
   ],
   "source": [
    "# add \n",
    "a.add('saya baru disini')\n",
    "a"
   ]
  },
  {
   "cell_type": "code",
   "execution_count": 632,
   "id": "5ca53163-d5b8-463d-b21d-3ba0451c91ad",
   "metadata": {},
   "outputs": [
    {
     "data": {
      "text/plain": [
       "{1, 2, 20, 200, 3, 30, 300, 4, 40, 400, 5, 'saya baru disini'}"
      ]
     },
     "execution_count": 632,
     "metadata": {},
     "output_type": "execute_result"
    }
   ],
   "source": [
    "# update \n",
    "a.update((200,300,400))\n",
    "a"
   ]
  },
  {
   "cell_type": "code",
   "execution_count": 636,
   "id": "2b9e68f1-de63-467c-91fb-d5ad00f6196c",
   "metadata": {},
   "outputs": [
    {
     "data": {
      "text/plain": [
       "{2, 20, 200, 3, 30, 300, 4, 40, 400, 5, 'saya baru disini'}"
      ]
     },
     "execution_count": 636,
     "metadata": {},
     "output_type": "execute_result"
    }
   ],
   "source": [
    "# remove \n",
    "a.remove(1)\n",
    "a"
   ]
  },
  {
   "cell_type": "code",
   "execution_count": 640,
   "id": "58693d7c-152f-4a31-a2e9-926a217e1701",
   "metadata": {},
   "outputs": [
    {
     "data": {
      "text/plain": [
       "{1, 2, 3, 4, 5}"
      ]
     },
     "execution_count": 640,
     "metadata": {},
     "output_type": "execute_result"
    }
   ],
   "source": [
    "#ubah dari list\n",
    "set([1,1,1,1,1,2,3,4,5])"
   ]
  },
  {
   "cell_type": "code",
   "execution_count": 645,
   "id": "672677df-3868-4a2f-a824-4328cd917ccf",
   "metadata": {},
   "outputs": [
    {
     "data": {
      "text/plain": [
       "frozenset({1, 2, 3, 4})"
      ]
     },
     "execution_count": 645,
     "metadata": {},
     "output_type": "execute_result"
    }
   ],
   "source": [
    "#FROZENSET TIDAK BISA DI TAMBAH/KURANG\n",
    "myfroz = frozenset({1,2,3,4})\n",
    "myfroz"
   ]
  },
  {
   "cell_type": "code",
   "execution_count": 647,
   "id": "e13221aa-7648-4af7-8781-ceaafca002cc",
   "metadata": {},
   "outputs": [
    {
     "ename": "AttributeError",
     "evalue": "'frozenset' object has no attribute 'add'",
     "output_type": "error",
     "traceback": [
      "\u001b[0;31m---------------------------------------------------------------------------\u001b[0m",
      "\u001b[0;31mAttributeError\u001b[0m                            Traceback (most recent call last)",
      "Cell \u001b[0;32mIn[647], line 1\u001b[0m\n\u001b[0;32m----> 1\u001b[0m myfroz\u001b[38;5;241m.\u001b[39madd(\u001b[38;5;241m50\u001b[39m)\n",
      "\u001b[0;31mAttributeError\u001b[0m: 'frozenset' object has no attribute 'add'"
     ]
    }
   ],
   "source": [
    "myfroz.add(50)"
   ]
  },
  {
   "cell_type": "code",
   "execution_count": null,
   "id": "6e5d26a3-6e92-41a7-9038-5a963c64bb3a",
   "metadata": {},
   "outputs": [],
   "source": []
  },
  {
   "cell_type": "code",
   "execution_count": null,
   "id": "92ad69fe-a232-46d2-98ee-907585b78a00",
   "metadata": {},
   "outputs": [],
   "source": []
  },
  {
   "cell_type": "code",
   "execution_count": null,
   "id": "8b0c1d11-4cd2-40b1-9225-aec863cb8388",
   "metadata": {},
   "outputs": [],
   "source": []
  },
  {
   "cell_type": "code",
   "execution_count": null,
   "id": "9322c3d5-ebbf-43b9-b403-ed9f98fb4a3e",
   "metadata": {},
   "outputs": [],
   "source": []
  },
  {
   "cell_type": "code",
   "execution_count": null,
   "id": "340cf44d-a1ad-43dc-9390-bec08e3353ce",
   "metadata": {},
   "outputs": [],
   "source": []
  },
  {
   "cell_type": "markdown",
   "id": "a46119e8-cf04-4771-a0b5-139877311bdd",
   "metadata": {},
   "source": [
    "**DICTIONARY** **DICTIONARY** **DICTIONARY** **DICTIONARY** **DICTIONARY** **DICTIONARY** **DICTIONARY** **DICTIONARY** **DICTIONARY**\n"
   ]
  },
  {
   "cell_type": "code",
   "execution_count": 16,
   "id": "1b1d68d2-6c99-4354-b8c1-4f2c37526357",
   "metadata": {},
   "outputs": [],
   "source": [
    "#kalo di js mngkin object\n",
    "# bersifat mutable"
   ]
  },
  {
   "cell_type": "code",
   "execution_count": 8,
   "id": "3a7d715a-5c2a-41ee-8f6b-d65ffd616a45",
   "metadata": {},
   "outputs": [],
   "source": [
    "dic = {\"num\": [1,2,3,4], \"name\" : \"kemal\", \"age\" : 20, 'tup': ('sayatup', 2,3), 'sayaset' : {1,2,3,4}}"
   ]
  },
  {
   "cell_type": "code",
   "execution_count": 662,
   "id": "284d40e0-703e-4597-952b-2ba5efa16869",
   "metadata": {},
   "outputs": [
    {
     "data": {
      "text/plain": [
       "20"
      ]
     },
     "execution_count": 662,
     "metadata": {},
     "output_type": "execute_result"
    }
   ],
   "source": [
    "dic[\"age\"]"
   ]
  },
  {
   "cell_type": "code",
   "execution_count": 14,
   "id": "c86e26bb-2749-40f4-a9bf-2f7b41d1e81a",
   "metadata": {},
   "outputs": [
    {
     "data": {
      "text/plain": [
       "('sayatup', 2, 3)"
      ]
     },
     "execution_count": 14,
     "metadata": {},
     "output_type": "execute_result"
    }
   ],
   "source": [
    "dic[\"tup\"][:4]"
   ]
  },
  {
   "cell_type": "code",
   "execution_count": 708,
   "id": "9c208548-3713-4a9d-8d0e-e457e767f0b9",
   "metadata": {},
   "outputs": [
    {
     "data": {
      "text/plain": [
       "{1: 'b'}"
      ]
     },
     "execution_count": 708,
     "metadata": {},
     "output_type": "execute_result"
    }
   ],
   "source": [
    "# key harus uniq, kalo sama yg di ambil the last\n",
    "{1 : \"a\", 1:\"b\"}"
   ]
  },
  {
   "cell_type": "code",
   "execution_count": 712,
   "id": "16252601-4bd4-498d-95bd-b92dcdfeffde",
   "metadata": {},
   "outputs": [],
   "source": [
    "dic['num'] = 'okegas'"
   ]
  },
  {
   "cell_type": "code",
   "execution_count": 716,
   "id": "8f7834b1-cb8b-48aa-a38a-457ac179684b",
   "metadata": {},
   "outputs": [
    {
     "data": {
      "text/plain": [
       "{'num': 'okegas',\n",
       " 'name': 'kemal',\n",
       " 'age': 20,\n",
       " 'tup': ('sayatup', 2, 3),\n",
       " 'sayaset': {1, 2, 3, 4}}"
      ]
     },
     "execution_count": 716,
     "metadata": {},
     "output_type": "execute_result"
    }
   ],
   "source": [
    "dic"
   ]
  },
  {
   "cell_type": "code",
   "execution_count": 720,
   "id": "5a24e363-acfb-4a19-a1fa-d7653aed5cb1",
   "metadata": {},
   "outputs": [
    {
     "data": {
      "text/plain": [
       "'okegas'"
      ]
     },
     "execution_count": 720,
     "metadata": {},
     "output_type": "execute_result"
    }
   ],
   "source": [
    "#pake get contoh ribet\n",
    "dic.get(\"num\")"
   ]
  },
  {
   "cell_type": "code",
   "execution_count": 728,
   "id": "a48e0d2a-afd2-45f0-ba0a-d952a31702f8",
   "metadata": {},
   "outputs": [
    {
     "data": {
      "text/plain": [
       "dict_keys(['num', 'name', 'age', 'tup', 'sayaset'])"
      ]
     },
     "execution_count": 728,
     "metadata": {},
     "output_type": "execute_result"
    }
   ],
   "source": [
    "# get all keys\n",
    "dic.keys()"
   ]
  },
  {
   "cell_type": "code",
   "execution_count": 736,
   "id": "ccf7b42b-681a-4653-bc34-77e7c129430d",
   "metadata": {},
   "outputs": [
    {
     "data": {
      "text/plain": [
       "dict_values(['okegas', 'kemal', 20, ('sayatup', 2, 3), {1, 2, 3, 4}])"
      ]
     },
     "execution_count": 736,
     "metadata": {},
     "output_type": "execute_result"
    }
   ],
   "source": [
    "# get all values\n",
    "dic.values()"
   ]
  },
  {
   "cell_type": "code",
   "execution_count": 2,
   "id": "5a1f0f0e-f9dc-4ce1-b97c-f35f7d322e1a",
   "metadata": {},
   "outputs": [
    {
     "data": {
      "text/plain": [
       "{'id': 'id-5363773', 'payload': 'nanana', 666: 'satani wkwk'}"
      ]
     },
     "execution_count": 2,
     "metadata": {},
     "output_type": "execute_result"
    }
   ],
   "source": [
    "# add dict kosong\n",
    "params = dict()\n",
    "params['id'] = 'id-5363773'\n",
    "params['payload'] = 'nanana'\n",
    "params[666] = 'satani wkwk'\n",
    "params"
   ]
  },
  {
   "cell_type": "code",
   "execution_count": null,
   "id": "2f80d06a-60c0-4482-a6f9-5b375a1ca505",
   "metadata": {},
   "outputs": [],
   "source": []
  }
 ],
 "metadata": {
  "kernelspec": {
   "display_name": "Python [conda env:base] *",
   "language": "python",
   "name": "conda-base-py"
  },
  "language_info": {
   "codemirror_mode": {
    "name": "ipython",
    "version": 3
   },
   "file_extension": ".py",
   "mimetype": "text/x-python",
   "name": "python",
   "nbconvert_exporter": "python",
   "pygments_lexer": "ipython3",
   "version": "3.12.7"
  }
 },
 "nbformat": 4,
 "nbformat_minor": 5
}
