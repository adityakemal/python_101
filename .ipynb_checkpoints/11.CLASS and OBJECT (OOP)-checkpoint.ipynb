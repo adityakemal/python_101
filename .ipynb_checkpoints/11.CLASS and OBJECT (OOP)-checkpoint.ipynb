{
 "cells": [
  {
   "cell_type": "markdown",
   "id": "2666f5a6-29fc-442d-a19f-7f4206555e38",
   "metadata": {},
   "source": [
    "### kelas sederhana\n"
   ]
  },
  {
   "cell_type": "code",
   "execution_count": 4,
   "id": "0bfb7f1a-f8ad-477a-bf7c-a221f55af5a1",
   "metadata": {},
   "outputs": [],
   "source": [
    "class NamaKelas:\n",
    "    # blok kode\n",
    "    pass"
   ]
  },
  {
   "cell_type": "code",
   "execution_count": 28,
   "id": "dd523f8c-40e3-4b9f-bbb1-9e660d8f664a",
   "metadata": {},
   "outputs": [],
   "source": [
    "class Motor:\n",
    "    pass"
   ]
  },
  {
   "cell_type": "code",
   "execution_count": null,
   "id": "0c402ac6-7ecd-49b4-bf39-88f8c20a63a7",
   "metadata": {},
   "outputs": [],
   "source": []
  },
  {
   "cell_type": "markdown",
   "id": "4378772e-faac-4252-9b88-ee549de855ce",
   "metadata": {},
   "source": [
    "### Membuat object dari class yg sudah di buat"
   ]
  },
  {
   "cell_type": "code",
   "execution_count": 12,
   "id": "3de31362-6bd1-4c43-aa97-1d7ffd548467",
   "metadata": {},
   "outputs": [],
   "source": [
    "kelas1 = NamaKelas()"
   ]
  },
  {
   "cell_type": "code",
   "execution_count": 14,
   "id": "5b34a0e2-a45c-4018-8c66-df25fd8a4f59",
   "metadata": {},
   "outputs": [
    {
     "data": {
      "text/plain": [
       "<__main__.NamaKelas at 0x105ff8410>"
      ]
     },
     "execution_count": 14,
     "metadata": {},
     "output_type": "execute_result"
    }
   ],
   "source": [
    "kelas1"
   ]
  },
  {
   "cell_type": "code",
   "execution_count": 26,
   "id": "66bfe5a9-a075-438b-afbb-77c8fa8be118",
   "metadata": {},
   "outputs": [
    {
     "data": {
      "text/plain": [
       "False"
      ]
     },
     "execution_count": 26,
     "metadata": {},
     "output_type": "execute_result"
    }
   ],
   "source": [
    "type(kelas1) == object"
   ]
  },
  {
   "cell_type": "code",
   "execution_count": 40,
   "id": "e795025d-a621-4b6b-84af-4aa7647b4a35",
   "metadata": {},
   "outputs": [],
   "source": [
    "motor1 = Motor()\n",
    "motor2 = Motor()\n",
    "motor3 = Motor()\n",
    "motor4 = Motor()"
   ]
  },
  {
   "cell_type": "code",
   "execution_count": 38,
   "id": "6a0dd847-c9ab-4c1d-b11e-7454312eef5e",
   "metadata": {},
   "outputs": [
    {
     "data": {
      "text/plain": [
       "__main__.Motor"
      ]
     },
     "execution_count": 38,
     "metadata": {},
     "output_type": "execute_result"
    }
   ],
   "source": [
    "type(motor1)"
   ]
  },
  {
   "cell_type": "code",
   "execution_count": null,
   "id": "c4d03463-cf56-4e08-9b5f-80f431f1c22f",
   "metadata": {},
   "outputs": [],
   "source": []
  },
  {
   "cell_type": "markdown",
   "id": "76150587-b668-4421-81f6-cb17b728c508",
   "metadata": {},
   "source": [
    "### class attribute and method"
   ]
  },
  {
   "cell_type": "code",
   "execution_count": 45,
   "id": "07f1c7df-8222-4a34-8a7a-71b91c07e9ac",
   "metadata": {},
   "outputs": [],
   "source": [
    "class Mobil:\n",
    "    jenis = \"darat\"\n",
    "    merk = [\"Honda\", \"Toyota\"]\n",
    "    "
   ]
  },
  {
   "cell_type": "code",
   "execution_count": 47,
   "id": "7fdd262f-f44c-4c30-80cd-496280bd8fa8",
   "metadata": {},
   "outputs": [],
   "source": [
    "mobil_saya = Mobil()"
   ]
  },
  {
   "cell_type": "code",
   "execution_count": 49,
   "id": "94fb0062-fe5e-4fa4-b69d-57bff913be0f",
   "metadata": {},
   "outputs": [
    {
     "name": "stdout",
     "output_type": "stream",
     "text": [
      "darat\n",
      "['Honda', 'Toyota']\n"
     ]
    }
   ],
   "source": [
    "print(mobil_saya.jenis)\n",
    "print(mobil_saya.merk)"
   ]
  },
  {
   "cell_type": "code",
   "execution_count": 53,
   "id": "07e46f8b-b925-4dd8-8d27-29518bf95afc",
   "metadata": {},
   "outputs": [
    {
     "name": "stdout",
     "output_type": "stream",
     "text": [
      "udara\n"
     ]
    }
   ],
   "source": [
    "mobil_saya.jenis = 'udara' #bisa di ubah\n",
    "print(mobil_saya.jenis)"
   ]
  },
  {
   "cell_type": "code",
   "execution_count": 55,
   "id": "1dad5d82-82bc-44ce-a829-b37b11ce5fe5",
   "metadata": {},
   "outputs": [],
   "source": [
    "#nambah kelas attribute"
   ]
  },
  {
   "cell_type": "code",
   "execution_count": 57,
   "id": "96af37e7-8f5a-41ad-bf7b-b2413ee5ffdc",
   "metadata": {},
   "outputs": [],
   "source": [
    "mobil_saya.bahan_bakar = 'Pertamaxxxx'"
   ]
  },
  {
   "cell_type": "code",
   "execution_count": 59,
   "id": "ca8c34c6-deb1-41d4-a1df-1bc70dd5d5f5",
   "metadata": {},
   "outputs": [
    {
     "name": "stdout",
     "output_type": "stream",
     "text": [
      "Pertamaxxxx\n"
     ]
    }
   ],
   "source": [
    "print(mobil_saya.bahan_bakar)"
   ]
  },
  {
   "cell_type": "code",
   "execution_count": 61,
   "id": "9b4c6499-4ce8-4761-8f25-fe7617c5bb62",
   "metadata": {},
   "outputs": [],
   "source": [
    "del mobil_saya.bahan_bakar"
   ]
  },
  {
   "cell_type": "code",
   "execution_count": 63,
   "id": "c5ed6bc3-3c28-4663-ae73-5808fada774a",
   "metadata": {},
   "outputs": [
    {
     "ename": "AttributeError",
     "evalue": "'Mobil' object has no attribute 'bahan_bakar'",
     "output_type": "error",
     "traceback": [
      "\u001b[0;31m---------------------------------------------------------------------------\u001b[0m",
      "\u001b[0;31mAttributeError\u001b[0m                            Traceback (most recent call last)",
      "Cell \u001b[0;32mIn[63], line 1\u001b[0m\n\u001b[0;32m----> 1\u001b[0m mobil_saya\u001b[38;5;241m.\u001b[39mbahan_bakar\n",
      "\u001b[0;31mAttributeError\u001b[0m: 'Mobil' object has no attribute 'bahan_bakar'"
     ]
    }
   ],
   "source": [
    "mobil_saya.bahan_bakar"
   ]
  },
  {
   "cell_type": "code",
   "execution_count": null,
   "id": "a7cdedcc-7d3e-4884-924b-ddab09a95c1e",
   "metadata": {},
   "outputs": [],
   "source": []
  },
  {
   "cell_type": "code",
   "execution_count": 119,
   "id": "6a19c306-b67e-42c5-8926-7ef199d3fdf0",
   "metadata": {},
   "outputs": [],
   "source": [
    "class Mobil:\n",
    "    jenis = \"darat\"\n",
    "    merk = [\"Honda\", \"Toyota\"]\n",
    "    #harus minimal tambah param minimal 1 biasanya namanya 'self' kalo gk error, karna by default argument nya adalah object itu sendiri\n",
    "    def info(self): \n",
    "        print('ini info method')\n",
    "        #enclosing tidak berlaku di dalam kelas variable bisa langsung di panggil dengan self\n",
    "        print(self.jenis) # biasanya ngambil instance variable\n",
    "        print(Mobil.jenis) #biasanya manggil class/atribute \n",
    "\n",
    "    def tipe(self, jenis_kendaraan):\n",
    "        print(f\"jenis mobilnya yaitu : {jenis_kendaraan}\")\n"
   ]
  },
  {
   "cell_type": "code",
   "execution_count": 121,
   "id": "efc6e6da-0c48-437b-ab5b-fc52377f7849",
   "metadata": {},
   "outputs": [
    {
     "name": "stdout",
     "output_type": "stream",
     "text": [
      "ini info method\n",
      "darat\n",
      "darat\n"
     ]
    }
   ],
   "source": [
    "mobil1 = Mobil()\n",
    "mobil1.info()"
   ]
  },
  {
   "cell_type": "code",
   "execution_count": 123,
   "id": "0d9c8055-78a5-4921-9f8b-15cfd0b29591",
   "metadata": {},
   "outputs": [
    {
     "name": "stdout",
     "output_type": "stream",
     "text": [
      "jenis mobilnya yaitu : mini SUV\n"
     ]
    }
   ],
   "source": [
    "mobil1.tipe(\"mini SUV\")"
   ]
  },
  {
   "cell_type": "code",
   "execution_count": null,
   "id": "acfccf13-6d84-461f-82cf-d9f28b11f146",
   "metadata": {},
   "outputs": [],
   "source": []
  },
  {
   "cell_type": "markdown",
   "id": "116746fd-6d2d-4711-84de-945d2bac21cd",
   "metadata": {},
   "source": [
    "### METHOD INIT"
   ]
  },
  {
   "cell_type": "code",
   "execution_count": 146,
   "id": "bf601edc-e192-41b8-a48e-28b4faf3a191",
   "metadata": {},
   "outputs": [],
   "source": [
    "class Pohon():\n",
    "    def __init__(self):\n",
    "        print('pohon self function langsung di panggil')\n",
    "\n",
    "\n",
    "    def jenis_func(self, jenis):\n",
    "        print(f'jenis pohonnya {jenis}')"
   ]
  },
  {
   "cell_type": "code",
   "execution_count": 148,
   "id": "f7dcb88f-3d32-4c8d-8471-c4198cdef437",
   "metadata": {},
   "outputs": [
    {
     "name": "stdout",
     "output_type": "stream",
     "text": [
      "pohon self function langsung di panggil\n"
     ]
    }
   ],
   "source": [
    "pohon1 = Pohon() #lansung manggil si init"
   ]
  },
  {
   "cell_type": "code",
   "execution_count": 150,
   "id": "60481622-7b2e-4422-bcd8-4b21950224bd",
   "metadata": {},
   "outputs": [
    {
     "name": "stdout",
     "output_type": "stream",
     "text": [
      "jenis pohonnya Manggo\n"
     ]
    }
   ],
   "source": [
    "pohon1.jenis_func('Manggo')"
   ]
  },
  {
   "cell_type": "code",
   "execution_count": 154,
   "id": "0b63c198-7512-4cdc-9caa-6d77e5a279e4",
   "metadata": {},
   "outputs": [],
   "source": [
    "class Pohon: ##with paramenter\n",
    "    def __init__(self, jenis_pohon):\n",
    "        print(f'pohon self function langsung di panggil {jenis_pohon}')\n"
   ]
  },
  {
   "cell_type": "code",
   "execution_count": 158,
   "id": "7a6cfea7-4819-4c8f-a0af-ca1461698079",
   "metadata": {},
   "outputs": [
    {
     "name": "stdout",
     "output_type": "stream",
     "text": [
      "pohon self function langsung di panggil Mangga\n"
     ]
    }
   ],
   "source": [
    "poh1 = Pohon(\"Mangga\")"
   ]
  },
  {
   "cell_type": "code",
   "execution_count": null,
   "id": "a9a93a3e-7065-447a-bb00-19d7376bc661",
   "metadata": {},
   "outputs": [],
   "source": []
  },
  {
   "cell_type": "code",
   "execution_count": 160,
   "id": "5e7a2f7c-f164-4e95-80e6-4b4edf9b4657",
   "metadata": {},
   "outputs": [],
   "source": [
    "#COMMON"
   ]
  },
  {
   "cell_type": "code",
   "execution_count": 180,
   "id": "4b112654-2d70-4943-94d6-3cd6fb531c86",
   "metadata": {},
   "outputs": [],
   "source": [
    "class Pohon: \n",
    "    desc = 'ini desc nya oke gas'\n",
    "    def __init__(self, jenis, usia, tinggi):\n",
    "        self.jenis = jenis\n",
    "        self.usia = usia\n",
    "        self.tinggi = tinggi\n",
    "\n",
    "    def info(self):\n",
    "        print(self.jenis) #manggil parameter instance means yg ada di dalam init \n",
    "        print(Pohon.desc) #manggil arrtibut class nya\n",
    "        print(f\"ini pohon {self.jenis}, usianya {self.usia}, dan tingginya {self.tinggi} \")"
   ]
  },
  {
   "cell_type": "code",
   "execution_count": 182,
   "id": "7c2ba903-aa2e-49fa-aa06-0246530104b3",
   "metadata": {},
   "outputs": [],
   "source": [
    "pohonsaya = Pohon(\"Mangga\", \"10 tahun\", 10)"
   ]
  },
  {
   "cell_type": "code",
   "execution_count": 188,
   "id": "8a31f26f-56a3-4d54-9e8c-9d74ec1f9454",
   "metadata": {},
   "outputs": [
    {
     "name": "stdout",
     "output_type": "stream",
     "text": [
      "Mangga\n",
      "ini desc nya oke gas\n",
      "ini pohon Mangga, usianya 10 tahun, dan tingginya 10 \n"
     ]
    }
   ],
   "source": [
    "pohonsaya.info()"
   ]
  },
  {
   "cell_type": "code",
   "execution_count": 190,
   "id": "a5b22170-a47d-4973-9a0a-4c2263b75f6b",
   "metadata": {},
   "outputs": [
    {
     "data": {
      "text/plain": [
       "'ini desc nya oke gas'"
      ]
     },
     "execution_count": 190,
     "metadata": {},
     "output_type": "execute_result"
    }
   ],
   "source": [
    "pohonsaya.desc"
   ]
  },
  {
   "cell_type": "code",
   "execution_count": 192,
   "id": "dbb0a971-da7a-49bd-b048-9f916882bc7c",
   "metadata": {},
   "outputs": [
    {
     "data": {
      "text/plain": [
       "10"
      ]
     },
     "execution_count": 192,
     "metadata": {},
     "output_type": "execute_result"
    }
   ],
   "source": [
    "pohonsaya.tinggi"
   ]
  },
  {
   "cell_type": "code",
   "execution_count": null,
   "id": "729f50ed-9816-4263-9259-bce4414d0185",
   "metadata": {},
   "outputs": [],
   "source": []
  }
 ],
 "metadata": {
  "kernelspec": {
   "display_name": "Python [conda env:base] *",
   "language": "python",
   "name": "conda-base-py"
  },
  "language_info": {
   "codemirror_mode": {
    "name": "ipython",
    "version": 3
   },
   "file_extension": ".py",
   "mimetype": "text/x-python",
   "name": "python",
   "nbconvert_exporter": "python",
   "pygments_lexer": "ipython3",
   "version": "3.12.7"
  }
 },
 "nbformat": 4,
 "nbformat_minor": 5
}
