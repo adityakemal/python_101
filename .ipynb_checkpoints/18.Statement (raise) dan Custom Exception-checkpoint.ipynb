{
 "cells": [
  {
   "cell_type": "code",
   "execution_count": null,
   "id": "975dbdbd-cfc9-41ff-8307-8d769d43371b",
   "metadata": {},
   "outputs": [],
   "source": [
    "# raise"
   ]
  },
  {
   "cell_type": "code",
   "execution_count": 39,
   "id": "2f6639f9-985d-4b52-a012-5b37fa27caae",
   "metadata": {},
   "outputs": [
    {
     "name": "stdout",
     "output_type": "stream",
     "text": [
      "NameError atau angkanya 666, angka setan broo\n"
     ]
    }
   ],
   "source": [
    "a = '666'\n",
    "\n",
    "try:\n",
    "    parsetoInt = int(a) #blok kode yg akan di check\n",
    "    if a == '666': #if except not found the errors we can make it with raise just can send to NameError / ValueError\n",
    "        raise NameError\n",
    "        \n",
    "except ValueError:\n",
    "    print('ValueError bro variable a bukan angka') # handle error disini\n",
    "except NameError:\n",
    "    print('NameError atau angkanya 666, angka setan broo') # handle error disini\n",
    "    \n",
    "else:\n",
    "    print(f'angka berhasil di parse! value nya adalah {parsetoInt}') # kalo berhasil disini\n",
    "    \n",
    "# finally: \n",
    "#     print('\\nTerima kasih telah mencoba fungsi validasi') # finnaly akan di run error / success"
   ]
  },
  {
   "cell_type": "code",
   "execution_count": null,
   "id": "206982c1-09d6-4bd7-a5e8-e54801e15aad",
   "metadata": {},
   "outputs": [],
   "source": []
  },
  {
   "cell_type": "markdown",
   "id": "19018dda-4c55-4e2f-a542-d2f687916ac9",
   "metadata": {},
   "source": [
    "## Custom Exception"
   ]
  },
  {
   "cell_type": "code",
   "execution_count": 44,
   "id": "d177504b-f8bf-49cb-8c84-6b9f89ced613",
   "metadata": {},
   "outputs": [],
   "source": [
    "class ErrorAngkaSetan(Exception):\n",
    "    def __init__(self, message='ini angka setan bro!!'):\n",
    "        self.message = message\n",
    "        super().__init__(self.message)"
   ]
  },
  {
   "cell_type": "code",
   "execution_count": 56,
   "id": "89c88a44-4af2-4079-927a-7e84c4bac1eb",
   "metadata": {},
   "outputs": [
    {
     "name": "stdout",
     "output_type": "stream",
     "text": [
      " ini angka setan bro!!\n"
     ]
    }
   ],
   "source": [
    "a = '666'\n",
    "\n",
    "try:\n",
    "    parsetoInt = int(a) #blok kode yg akan di check\n",
    "    if a == '666': #if except not found the errors we can make it with raise just can send to NameError / ValueError\n",
    "        raise ErrorAngkaSetan\n",
    "        \n",
    "except ValueError:\n",
    "    print('ValueError bro variable a bukan angka')\n",
    "    \n",
    "except Exception as err:\n",
    "    print(f' {err}') # bisa kayak gini\n",
    "# except ErrorAngkaSetan:\n",
    "#     print('666, angka setan broo') # atau kayak gini\n",
    "\n",
    "else:\n",
    "    print(f'angka berhasil di parse! value nya adalah {parsetoInt}') # kalo berhasil disini"
   ]
  },
  {
   "cell_type": "code",
   "execution_count": null,
   "id": "ab97470b-ff23-411f-8be2-f03dbb54d335",
   "metadata": {},
   "outputs": [],
   "source": []
  }
 ],
 "metadata": {
  "kernelspec": {
   "display_name": "Python [conda env:base] *",
   "language": "python",
   "name": "conda-base-py"
  },
  "language_info": {
   "codemirror_mode": {
    "name": "ipython",
    "version": 3
   },
   "file_extension": ".py",
   "mimetype": "text/x-python",
   "name": "python",
   "nbconvert_exporter": "python",
   "pygments_lexer": "ipython3",
   "version": "3.12.7"
  }
 },
 "nbformat": 4,
 "nbformat_minor": 5
}
