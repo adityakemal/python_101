{
 "cells": [
  {
   "cell_type": "code",
   "execution_count": 18,
   "id": "d82cefb6-f18b-42dd-bea6-59d2ab27da65",
   "metadata": {},
   "outputs": [],
   "source": [
    "def halo(name):\n",
    "    return f'ahsiap {name}' "
   ]
  },
  {
   "cell_type": "code",
   "execution_count": 22,
   "id": "4e681da2-d668-4381-9175-d48675bcf94a",
   "metadata": {},
   "outputs": [
    {
     "data": {
      "text/plain": [
       "'ahsiap name'"
      ]
     },
     "execution_count": 22,
     "metadata": {},
     "output_type": "execute_result"
    }
   ],
   "source": [
    "halo('name')"
   ]
  },
  {
   "cell_type": "code",
   "execution_count": 32,
   "id": "7fabe8be-6da6-4233-b109-c010dead6606",
   "metadata": {},
   "outputs": [],
   "source": [
    "var = halo('bro')"
   ]
  },
  {
   "cell_type": "code",
   "execution_count": 34,
   "id": "80552938-87b8-47d9-aa9b-24ba865ef3e7",
   "metadata": {},
   "outputs": [
    {
     "data": {
      "text/plain": [
       "'ahsiap bro'"
      ]
     },
     "execution_count": 34,
     "metadata": {},
     "output_type": "execute_result"
    }
   ],
   "source": [
    "var #langsung ke panggil"
   ]
  },
  {
   "cell_type": "code",
   "execution_count": 48,
   "id": "ce272d82-53f5-4f04-b69e-f53d010cc3ed",
   "metadata": {},
   "outputs": [
    {
     "name": "stdout",
     "output_type": "stream",
     "text": [
      "DOCTSTRING help(fun_name)DOCTSTRING help(fun_name)DOCTSTRING help(fun_name)DOCTSTRING help(fun_name)DOCTSTRING help(fun_name)DOCTSTRING help(fun_name)DOCTSTRING help(fun_name)DOCTSTRING help(fun_name)DOCTSTRING help(fun_name)DOCTSTRING help(fun_name)DOCTSTRING help(fun_name)DOCTSTRING help(fun_name)DOCTSTRING help(fun_name)DOCTSTRING help(fun_name)DOCTSTRING help(fun_name)DOCTSTRING help(fun_name)DOCTSTRING help(fun_name)DOCTSTRING help(fun_name)DOCTSTRING help(fun_name)DOCTSTRING help(fun_name)\n"
     ]
    }
   ],
   "source": [
    "print('DOCTSTRING help(fun_name)'*20)"
   ]
  },
  {
   "cell_type": "code",
   "execution_count": 38,
   "id": "64d45c9a-3edd-4c1e-b91b-a808efe8eb78",
   "metadata": {},
   "outputs": [],
   "source": [
    "def descfun():\n",
    "    \"\"\"\n",
    "    ini adalah fungsi dengan desc\n",
    "    loremipsum lalalla\n",
    "    \"\"\"\n",
    "    print('with desc')    "
   ]
  },
  {
   "cell_type": "code",
   "execution_count": 40,
   "id": "f61514ce-3f64-4d09-b699-2fb4399db9f0",
   "metadata": {},
   "outputs": [
    {
     "name": "stdout",
     "output_type": "stream",
     "text": [
      "with desc\n"
     ]
    }
   ],
   "source": [
    "descfun()"
   ]
  },
  {
   "cell_type": "code",
   "execution_count": 42,
   "id": "31bf53e6-32bf-49a2-9089-3c1aa2a6de27",
   "metadata": {},
   "outputs": [
    {
     "name": "stdout",
     "output_type": "stream",
     "text": [
      "Help on function descfun in module __main__:\n",
      "\n",
      "descfun()\n",
      "    ini adalah fungsi dengan desc\n",
      "    loremipsum lalalla\n",
      "\n"
     ]
    }
   ],
   "source": [
    "help(descfun)"
   ]
  },
  {
   "cell_type": "code",
   "execution_count": 50,
   "id": "f94384cb-8572-4097-bd26-ab2b9ff144e3",
   "metadata": {},
   "outputs": [
    {
     "name": "stdout",
     "output_type": "stream",
     "text": [
      "default paramsdefault paramsdefault paramsdefault paramsdefault paramsdefault paramsdefault paramsdefault paramsdefault paramsdefault paramsdefault paramsdefault paramsdefault paramsdefault paramsdefault paramsdefault paramsdefault paramsdefault paramsdefault paramsdefault params\n"
     ]
    }
   ],
   "source": [
    "print('default params'*20)"
   ]
  },
  {
   "cell_type": "code",
   "execution_count": 52,
   "id": "910e9dae-8d87-41d7-945d-4c0e0c8ad62b",
   "metadata": {},
   "outputs": [],
   "source": [
    "def oke(name='default name here'):\n",
    "    return f'nama saya {name}'"
   ]
  },
  {
   "cell_type": "code",
   "execution_count": 54,
   "id": "544b1325-30dc-49b9-84a1-2978edd083be",
   "metadata": {},
   "outputs": [
    {
     "data": {
      "text/plain": [
       "'nama saya default name here'"
      ]
     },
     "execution_count": 54,
     "metadata": {},
     "output_type": "execute_result"
    }
   ],
   "source": [
    "oke()"
   ]
  },
  {
   "cell_type": "code",
   "execution_count": 56,
   "id": "9cff84bd-5ef9-4070-8ea8-1164b7e0026e",
   "metadata": {},
   "outputs": [
    {
     "data": {
      "text/plain": [
       "'nama saya Asep'"
      ]
     },
     "execution_count": 56,
     "metadata": {},
     "output_type": "execute_result"
    }
   ],
   "source": [
    "oke('Asep')"
   ]
  },
  {
   "cell_type": "code",
   "execution_count": 80,
   "id": "7ac9ae17-6683-4ca6-92e1-424935e945c8",
   "metadata": {},
   "outputs": [],
   "source": [
    "def hitung_vokal(arg):\n",
    "    hitung = 0\n",
    "    for item in arg:\n",
    "        if item in 'aiueoAIUEO':\n",
    "            hitung += 1\n",
    "    return hitung\n",
    "        "
   ]
  },
  {
   "cell_type": "code",
   "execution_count": 82,
   "id": "8fc88ca6-853d-4bd8-9ac5-454aca16e73d",
   "metadata": {},
   "outputs": [
    {
     "data": {
      "text/plain": [
       "6"
      ]
     },
     "execution_count": 82,
     "metadata": {},
     "output_type": "execute_result"
    }
   ],
   "source": [
    "hitung_vokal('Rania Nisrina')"
   ]
  },
  {
   "cell_type": "code",
   "execution_count": 91,
   "id": "e3df1bef-89ae-493a-9e30-60ef845d1839",
   "metadata": {},
   "outputs": [],
   "source": [
    "a = [1,1,3, [100,200, ['oke', 'gas']]] #make this data not nested "
   ]
  },
  {
   "cell_type": "code",
   "execution_count": 175,
   "id": "b39e4116-0d0b-4faf-8a5d-b6be5a9829ac",
   "metadata": {},
   "outputs": [],
   "source": [
    "mylist = []\n",
    "def recursive(arg):\n",
    "    for d in arg:\n",
    "        print(f\" value= {d} is_a_list= {type(d) == list}\")\n",
    "        if type(d) == list:\n",
    "            recursive(d)\n",
    "        else:\n",
    "            mylist.append(d)\n",
    "    return mylist\n",
    "            \n",
    "            "
   ]
  },
  {
   "cell_type": "code",
   "execution_count": 177,
   "id": "3fb6c72d-5604-4e9b-ac75-508fb67c2ff2",
   "metadata": {},
   "outputs": [
    {
     "name": "stdout",
     "output_type": "stream",
     "text": [
      " value= 1 is_a_list= False\n",
      " value= 1 is_a_list= False\n",
      " value= 3 is_a_list= False\n",
      " value= [100, 200, ['oke', 'gas']] is_a_list= True\n",
      " value= 100 is_a_list= False\n",
      " value= 200 is_a_list= False\n",
      " value= ['oke', 'gas'] is_a_list= True\n",
      " value= oke is_a_list= False\n",
      " value= gas is_a_list= False\n"
     ]
    },
    {
     "data": {
      "text/plain": [
       "[1, 1, 3, 100, 200, 'oke', 'gas']"
      ]
     },
     "execution_count": 177,
     "metadata": {},
     "output_type": "execute_result"
    }
   ],
   "source": [
    "recursive(a)"
   ]
  },
  {
   "cell_type": "code",
   "execution_count": null,
   "id": "0505bd26-7f9b-44d6-bac2-1e5e672aa361",
   "metadata": {},
   "outputs": [],
   "source": []
  }
 ],
 "metadata": {
  "kernelspec": {
   "display_name": "Python [conda env:base] *",
   "language": "python",
   "name": "conda-base-py"
  },
  "language_info": {
   "codemirror_mode": {
    "name": "ipython",
    "version": 3
   },
   "file_extension": ".py",
   "mimetype": "text/x-python",
   "name": "python",
   "nbconvert_exporter": "python",
   "pygments_lexer": "ipython3",
   "version": "3.12.7"
  }
 },
 "nbformat": 4,
 "nbformat_minor": 5
}
