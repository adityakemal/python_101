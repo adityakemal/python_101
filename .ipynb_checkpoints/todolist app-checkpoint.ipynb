{
 "cells": [
  {
   "cell_type": "code",
   "execution_count": null,
   "id": "a41f2032-f5cb-4dcc-bb6b-d62642afb4ea",
   "metadata": {},
   "outputs": [],
   "source": [
    "# nonlocal data is defind when in function to make them know the data is not from local"
   ]
  },
  {
   "cell_type": "code",
   "execution_count": null,
   "id": "9d219ea9-1544-4219-a953-aaef8678898e",
   "metadata": {},
   "outputs": [
    {
     "name": "stdout",
     "output_type": "stream",
     "text": [
      "\n",
      " \n",
      "\n",
      "==MY TODOLIST==\n",
      "Lihat ketik 1\n",
      "Tambah ketik 2\n",
      "Hapus ketik 3\n",
      "Keluar ketik 4 \n",
      "\n"
     ]
    },
    {
     "name": "stdin",
     "output_type": "stream",
     "text": [
      "Silahkan Ketik disinsi= 3\n"
     ]
    },
    {
     "name": "stdout",
     "output_type": "stream",
     "text": [
      "\n",
      "\n",
      "1, belajar\n",
      "2, beli kue\n"
     ]
    },
    {
     "name": "stdin",
     "output_type": "stream",
     "text": [
      "Masukan nomor yang akan di Hapus: 1\n"
     ]
    },
    {
     "name": "stdout",
     "output_type": "stream",
     "text": [
      "Berhasil di hapus ✅\n",
      "\n",
      " \n",
      "\n",
      "==MY TODOLIST==\n",
      "Lihat ketik 1\n",
      "Tambah ketik 2\n",
      "Hapus ketik 3\n",
      "Keluar ketik 4 \n",
      "\n"
     ]
    },
    {
     "name": "stdin",
     "output_type": "stream",
     "text": [
      "Silahkan Ketik disinsi= 1\n"
     ]
    },
    {
     "name": "stdout",
     "output_type": "stream",
     "text": [
      "\n",
      "\n",
      "1, beli kue\n",
      "\n",
      " \n",
      "\n",
      "==MY TODOLIST==\n",
      "Lihat ketik 1\n",
      "Tambah ketik 2\n",
      "Hapus ketik 3\n",
      "Keluar ketik 4 \n",
      "\n"
     ]
    }
   ],
   "source": [
    "def main():\n",
    "    data = ['belajar', 'beli kue']\n",
    "    \n",
    "    def lihat():\n",
    "        for i,s in enumerate(data): print(f'{i+1}, {s}')\n",
    "    \n",
    "    def tambah(todo):\n",
    "        data.append(todo)\n",
    "        print('Berhasil ditambahkan ✅')\n",
    "    \n",
    "    def hapus(delete_id):\n",
    "        nonlocal data\n",
    "        if delete_id.isdigit():\n",
    "            id = int(delete_id) -1\n",
    "            filtered = []\n",
    "            for i, d in enumerate(data):\n",
    "                if i != id:\n",
    "                    filtered.append(d)\n",
    "                    \n",
    "            data = filtered      \n",
    "            print('Berhasil di hapus ✅')\n",
    "        else:\n",
    "            print('id tidak di temukan')\n",
    "    \n",
    "    \n",
    "        \n",
    "    while True:\n",
    "        print('\\n \\n')\n",
    "        print('==MY TODOLIST==')\n",
    "        print('Lihat ketik 1')\n",
    "        print('Tambah ketik 2')\n",
    "        print('Hapus ketik 3')\n",
    "        print('Keluar ketik 4 \\n')\n",
    "        \n",
    "        menu = input('Silahkan Ketik disinsi=')\n",
    "        print('\\n')\n",
    "        \n",
    "        if menu == '1':\n",
    "            lihat()\n",
    "        if menu == '2':\n",
    "            todo = input('Silahkan masukan todo')\n",
    "            tambah(todo)\n",
    "        if menu == '3':\n",
    "            lihat()\n",
    "            delete_id = input('Masukan nomor yang akan di Hapus:')\n",
    "            hapus(delete_id)\n",
    "        if menu == '4':\n",
    "            print('Sampai jumpa!! silahkan datang kembali')\n",
    "            break\n",
    "    \n",
    "\n",
    "\n",
    "main()"
   ]
  },
  {
   "cell_type": "code",
   "execution_count": null,
   "id": "344382cd-ed82-471e-a529-fbc4cfd94d1f",
   "metadata": {},
   "outputs": [],
   "source": [
    "\n"
   ]
  }
 ],
 "metadata": {
  "kernelspec": {
   "display_name": "Python [conda env:base] *",
   "language": "python",
   "name": "conda-base-py"
  },
  "language_info": {
   "codemirror_mode": {
    "name": "ipython",
    "version": 3
   },
   "file_extension": ".py",
   "mimetype": "text/x-python",
   "name": "python",
   "nbconvert_exporter": "python",
   "pygments_lexer": "ipython3",
   "version": "3.12.7"
  }
 },
 "nbformat": 4,
 "nbformat_minor": 5
}
