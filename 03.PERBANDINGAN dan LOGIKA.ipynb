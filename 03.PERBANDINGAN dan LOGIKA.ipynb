{
 "cells": [
  {
   "cell_type": "code",
   "execution_count": 32,
   "id": "34a57951-2b30-4158-9cc1-5c364161224d",
   "metadata": {},
   "outputs": [],
   "source": [
    "a = 10\n",
    "b = 5\n",
    "c = 10\n"
   ]
  },
  {
   "cell_type": "code",
   "execution_count": 4,
   "id": "c69de8fc-7d67-4ef5-902c-4ca4ae349093",
   "metadata": {},
   "outputs": [
    {
     "data": {
      "text/plain": [
       "True"
      ]
     },
     "execution_count": 4,
     "metadata": {},
     "output_type": "execute_result"
    }
   ],
   "source": [
    "a == c"
   ]
  },
  {
   "cell_type": "code",
   "execution_count": 10,
   "id": "9354063a-a0be-4cc3-9d8d-1fc0250deea1",
   "metadata": {},
   "outputs": [
    {
     "data": {
      "text/plain": [
       "False"
      ]
     },
     "execution_count": 10,
     "metadata": {},
     "output_type": "execute_result"
    }
   ],
   "source": [
    "a == b"
   ]
  },
  {
   "cell_type": "code",
   "execution_count": 12,
   "id": "ba4308c3-57f3-41e2-8dfc-22c570019190",
   "metadata": {},
   "outputs": [
    {
     "data": {
      "text/plain": [
       "True"
      ]
     },
     "execution_count": 12,
     "metadata": {},
     "output_type": "execute_result"
    }
   ],
   "source": [
    "a >b"
   ]
  },
  {
   "cell_type": "code",
   "execution_count": 16,
   "id": "c43663cb-e5dc-434c-b02f-c330b5309d30",
   "metadata": {},
   "outputs": [
    {
     "data": {
      "text/plain": [
       "False"
      ]
     },
     "execution_count": 16,
     "metadata": {},
     "output_type": "execute_result"
    }
   ],
   "source": [
    "c<b"
   ]
  },
  {
   "cell_type": "code",
   "execution_count": 18,
   "id": "fc13c785-7716-4435-a7ca-ecd4403e05b0",
   "metadata": {},
   "outputs": [
    {
     "data": {
      "text/plain": [
       "True"
      ]
     },
     "execution_count": 18,
     "metadata": {},
     "output_type": "execute_result"
    }
   ],
   "source": [
    "a!= b"
   ]
  },
  {
   "cell_type": "code",
   "execution_count": 20,
   "id": "045a35ac-8dfa-4dff-b027-585c0baf9433",
   "metadata": {},
   "outputs": [
    {
     "data": {
      "text/plain": [
       "False"
      ]
     },
     "execution_count": 20,
     "metadata": {},
     "output_type": "execute_result"
    }
   ],
   "source": [
    "a > c"
   ]
  },
  {
   "cell_type": "code",
   "execution_count": 22,
   "id": "51d5fa54-08c6-44f8-87e6-a35388e03776",
   "metadata": {},
   "outputs": [
    {
     "data": {
      "text/plain": [
       "True"
      ]
     },
     "execution_count": 22,
     "metadata": {},
     "output_type": "execute_result"
    }
   ],
   "source": [
    "a >= c"
   ]
  },
  {
   "cell_type": "code",
   "execution_count": 28,
   "id": "0a7cadfd-6d14-44f3-9e97-d4d5fa42f8ee",
   "metadata": {},
   "outputs": [
    {
     "data": {
      "text/plain": [
       "'OPERATOR_LOGIKA OPERATOR_LOGIKA OPERATOR_LOGIKA OPERATOR_LOGIKA OPERATOR_LOGIKA OPERATOR_LOGIKA OPERATOR_LOGIKA OPERATOR_LOGIKA OPERATOR_LOGIKA OPERATOR_LOGIKA OPERATOR_LOGIKA OPERATOR_LOGIKA OPERATOR_LOGIKA OPERATOR_LOGIKA OPERATOR_LOGIKA OPERATOR_LOGIKA OPERATOR_LOGIKA OPERATOR_LOGIKA OPERATOR_LOGIKA OPERATOR_LOGIKA OPERATOR_LOGIKA OPERATOR_LOGIKA OPERATOR_LOGIKA OPERATOR_LOGIKA OPERATOR_LOGIKA OPERATOR_LOGIKA OPERATOR_LOGIKA OPERATOR_LOGIKA OPERATOR_LOGIKA OPERATOR_LOGIKA OPERATOR_LOGIKA OPERATOR_LOGIKA OPERATOR_LOGIKA OPERATOR_LOGIKA OPERATOR_LOGIKA OPERATOR_LOGIKA OPERATOR_LOGIKA OPERATOR_LOGIKA OPERATOR_LOGIKA OPERATOR_LOGIKA OPERATOR_LOGIKA OPERATOR_LOGIKA OPERATOR_LOGIKA OPERATOR_LOGIKA OPERATOR_LOGIKA OPERATOR_LOGIKA OPERATOR_LOGIKA OPERATOR_LOGIKA OPERATOR_LOGIKA OPERATOR_LOGIKA '"
      ]
     },
     "execution_count": 28,
     "metadata": {},
     "output_type": "execute_result"
    }
   ],
   "source": [
    "\"OPERATOR_LOGIKA \" *50"
   ]
  },
  {
   "cell_type": "code",
   "execution_count": 40,
   "id": "b24442ec-9d92-4c26-823f-493910c851a8",
   "metadata": {},
   "outputs": [
    {
     "data": {
      "text/plain": [
       "False"
      ]
     },
     "execution_count": 40,
     "metadata": {},
     "output_type": "execute_result"
    }
   ],
   "source": [
    "1>2 and 2>2"
   ]
  },
  {
   "cell_type": "code",
   "execution_count": 46,
   "id": "ddb897b7-9f54-43b4-a959-6b4ef1ab5ffe",
   "metadata": {},
   "outputs": [
    {
     "data": {
      "text/plain": [
       "10"
      ]
     },
     "execution_count": 46,
     "metadata": {},
     "output_type": "execute_result"
    }
   ],
   "source": [
    "b and a"
   ]
  },
  {
   "cell_type": "code",
   "execution_count": 48,
   "id": "cfdd08dc-11de-4c03-b889-6c94f6754bda",
   "metadata": {},
   "outputs": [
    {
     "data": {
      "text/plain": [
       "5"
      ]
     },
     "execution_count": 48,
     "metadata": {},
     "output_type": "execute_result"
    }
   ],
   "source": [
    "b or a"
   ]
  },
  {
   "cell_type": "code",
   "execution_count": 50,
   "id": "9509f76b-2bae-4f2d-a5f4-0c6f945007f7",
   "metadata": {},
   "outputs": [
    {
     "data": {
      "text/plain": [
       "False"
      ]
     },
     "execution_count": 50,
     "metadata": {},
     "output_type": "execute_result"
    }
   ],
   "source": [
    "not 100>90"
   ]
  },
  {
   "cell_type": "code",
   "execution_count": null,
   "id": "a6242638-d221-4fc4-8bad-4685993bac9a",
   "metadata": {},
   "outputs": [],
   "source": []
  }
 ],
 "metadata": {
  "kernelspec": {
   "display_name": "Python [conda env:base] *",
   "language": "python",
   "name": "conda-base-py"
  },
  "language_info": {
   "codemirror_mode": {
    "name": "ipython",
    "version": 3
   },
   "file_extension": ".py",
   "mimetype": "text/x-python",
   "name": "python",
   "nbconvert_exporter": "python",
   "pygments_lexer": "ipython3",
   "version": "3.12.7"
  }
 },
 "nbformat": 4,
 "nbformat_minor": 5
}
