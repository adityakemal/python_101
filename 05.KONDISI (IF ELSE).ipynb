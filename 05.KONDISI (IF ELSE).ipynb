{
 "cells": [
  {
   "cell_type": "code",
   "execution_count": 2,
   "id": "c734fccd-b839-4871-af51-f3067aa1da91",
   "metadata": {},
   "outputs": [],
   "source": [
    "a=  20"
   ]
  },
  {
   "cell_type": "code",
   "execution_count": 4,
   "id": "89087b4c-33bf-411f-be27-b0d04693f0b2",
   "metadata": {},
   "outputs": [
    {
     "name": "stdout",
     "output_type": "stream",
     "text": [
      "benar\n"
     ]
    }
   ],
   "source": [
    "if a == 20:\n",
    "    print('benar')"
   ]
  },
  {
   "cell_type": "code",
   "execution_count": 14,
   "id": "71bc58dc-2493-4334-9df0-bd6e8ad30f30",
   "metadata": {},
   "outputs": [
    {
     "name": "stdout",
     "output_type": "stream",
     "text": [
      "Benar\n"
     ]
    }
   ],
   "source": [
    "if a:\n",
    "    print('Benar')"
   ]
  },
  {
   "cell_type": "code",
   "execution_count": 16,
   "id": "0f74ec09-6f68-4e19-9700-b44192edfea6",
   "metadata": {},
   "outputs": [
    {
     "name": "stdout",
     "output_type": "stream",
     "text": [
      "False\n"
     ]
    }
   ],
   "source": [
    "a = 0\n",
    "if a:\n",
    "    print(True)\n",
    "else:\n",
    "    print(False)"
   ]
  },
  {
   "cell_type": "code",
   "execution_count": 24,
   "id": "0009b414-4277-4137-b7de-5a008da66253",
   "metadata": {},
   "outputs": [
    {
     "name": "stdout",
     "output_type": "stream",
     "text": [
      "x=True Berhasil\n"
     ]
    }
   ],
   "source": [
    "x = True\n",
    "y = False\n",
    "z = True\n",
    "\n",
    "if x:\n",
    "    print(f'x={x} Berhasil')\n",
    "elif y:\n",
    "    print(f'y={y} Berhasil')\n",
    "elif z:\n",
    "    print(f'z={z} Berhasil')"
   ]
  },
  {
   "cell_type": "code",
   "execution_count": null,
   "id": "0e5ca91e-3fac-487b-b7df-a8d8410d1689",
   "metadata": {},
   "outputs": [],
   "source": []
  },
  {
   "cell_type": "code",
   "execution_count": null,
   "id": "ec340710-6c26-4b59-9cc2-7e9147fedbcd",
   "metadata": {},
   "outputs": [],
   "source": []
  },
  {
   "cell_type": "code",
   "execution_count": null,
   "id": "3ba2a645-4f54-4ec7-8e9b-b607d0eb1a05",
   "metadata": {},
   "outputs": [],
   "source": []
  }
 ],
 "metadata": {
  "kernelspec": {
   "display_name": "Python [conda env:base] *",
   "language": "python",
   "name": "conda-base-py"
  },
  "language_info": {
   "codemirror_mode": {
    "name": "ipython",
    "version": 3
   },
   "file_extension": ".py",
   "mimetype": "text/x-python",
   "name": "python",
   "nbconvert_exporter": "python",
   "pygments_lexer": "ipython3",
   "version": "3.12.7"
  }
 },
 "nbformat": 4,
 "nbformat_minor": 5
}
