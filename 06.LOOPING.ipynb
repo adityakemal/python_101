{
 "cells": [
  {
   "cell_type": "code",
   "execution_count": 4,
   "id": "4e1d022a-a184-4946-98aa-f9d9765dc3ed",
   "metadata": {},
   "outputs": [
    {
     "name": "stdout",
     "output_type": "stream",
     "text": [
      "1\n",
      "2\n",
      "3\n",
      "4\n",
      "5\n"
     ]
    }
   ],
   "source": [
    "a = [1,2,3,4,5]\n",
    "for item in a:\n",
    "    print(item)"
   ]
  },
  {
   "cell_type": "code",
   "execution_count": 8,
   "id": "f74ca0c3-1f82-4449-a0cc-7f080740628a",
   "metadata": {},
   "outputs": [
    {
     "name": "stdout",
     "output_type": "stream",
     "text": [
      "k\n",
      "e\n",
      "m\n",
      "a\n",
      "l\n"
     ]
    }
   ],
   "source": [
    "b = \"kemal\"\n",
    "for item in b:\n",
    "    print(item)"
   ]
  },
  {
   "cell_type": "code",
   "execution_count": 16,
   "id": "27cf4c71-9e95-45cc-ae81-c9d43404b9f2",
   "metadata": {},
   "outputs": [
    {
     "name": "stdout",
     "output_type": "stream",
     "text": [
      "a\n",
      "b\n",
      "c\n",
      "d\n"
     ]
    }
   ],
   "source": [
    "l = [['a','b'], ['c', 'd']]\n",
    "for a,b, in l:\n",
    "    print(a)\n",
    "    print(b)"
   ]
  },
  {
   "cell_type": "code",
   "execution_count": 20,
   "id": "17f2b493-824e-4c6a-80df-c37f06ac192b",
   "metadata": {},
   "outputs": [
    {
     "name": "stdout",
     "output_type": "stream",
     "text": [
      "kemal\n",
      "31\n",
      "bandung\n"
     ]
    }
   ],
   "source": [
    "dic = {\"nama\" : \"kemal\", 'age' : 31, \"address\" : \"bandung\"} #dict\n",
    "for res in dic.values():\n",
    "    print(res)"
   ]
  },
  {
   "cell_type": "code",
   "execution_count": 22,
   "id": "149a6bc0-5f43-4100-b997-74b54310f90e",
   "metadata": {},
   "outputs": [
    {
     "name": "stdout",
     "output_type": "stream",
     "text": [
      "nama\n",
      "age\n",
      "address\n"
     ]
    }
   ],
   "source": [
    "for res in dic.keys():\n",
    "    print(res)"
   ]
  },
  {
   "cell_type": "code",
   "execution_count": 24,
   "id": "46a3510f-3af5-4233-876c-75b9cb07d926",
   "metadata": {},
   "outputs": [
    {
     "name": "stdout",
     "output_type": "stream",
     "text": [
      "('nama', 'kemal')\n",
      "('age', 31)\n",
      "('address', 'bandung')\n"
     ]
    }
   ],
   "source": [
    "for res in dic.items():\n",
    "    print(res)"
   ]
  },
  {
   "cell_type": "code",
   "execution_count": 44,
   "id": "8e35456d-3acd-42cc-8ab4-a3649c388156",
   "metadata": {},
   "outputs": [
    {
     "name": "stdout",
     "output_type": "stream",
     "text": [
      "key nya \"nama\", value nya \"kemal\"\n",
      "key nya \"age\", value nya \"31\"\n",
      "key nya \"address\", value nya \"bandung\"\n"
     ]
    }
   ],
   "source": [
    "for k,v in dic.items():\n",
    "    print(f'key nya \"{k}\", value nya \"{v}\"')"
   ]
  },
  {
   "cell_type": "code",
   "execution_count": 66,
   "id": "5e11f859-43ce-456c-a010-323d3f2bfc85",
   "metadata": {},
   "outputs": [
    {
     "name": "stdout",
     "output_type": "stream",
     "text": [
      "enumerate() and zip() enumerate() and zip() enumerate() and zip() enumerate() and zip() enumerate() and zip() enumerate() and zip() enumerate() and zip() enumerate() and zip() enumerate() and zip() enumerate() and zip() enumerate() and zip() enumerate() and zip() enumerate() and zip() enumerate() and zip() enumerate() and zip() enumerate() and zip() enumerate() and zip() enumerate() and zip() enumerate() and zip() enumerate() and zip() enumerate() and zip() enumerate() and zip() enumerate() and zip() enumerate() and zip() enumerate() and zip() enumerate() and zip() enumerate() and zip() enumerate() and zip() enumerate() and zip() enumerate() and zip() enumerate() and zip() enumerate() and zip() enumerate() and zip() enumerate() and zip() enumerate() and zip() enumerate() and zip() enumerate() and zip() enumerate() and zip() enumerate() and zip() enumerate() and zip() enumerate() and zip() enumerate() and zip() enumerate() and zip() enumerate() and zip() enumerate() and zip() enumerate() and zip() enumerate() and zip() enumerate() and zip() enumerate() and zip() enumerate() and zip() \n"
     ]
    }
   ],
   "source": [
    "print('enumerate() and zip() '*50)"
   ]
  },
  {
   "cell_type": "code",
   "execution_count": 52,
   "id": "158f6439-74ad-447b-9938-d0bb3c2ea903",
   "metadata": {},
   "outputs": [
    {
     "name": "stdout",
     "output_type": "stream",
     "text": [
      "itemnya = k, indexnya = 0\n",
      "itemnya = e, indexnya = 1\n",
      "itemnya = m, indexnya = 2\n",
      "itemnya = a, indexnya = 3\n",
      "itemnya = l, indexnya = 4\n",
      "itemnya =  , indexnya = 5\n",
      "itemnya = a, indexnya = 6\n",
      "itemnya = d, indexnya = 7\n",
      "itemnya = i, indexnya = 8\n",
      "itemnya = t, indexnya = 9\n",
      "itemnya = y, indexnya = 10\n",
      "itemnya = a, indexnya = 11\n"
     ]
    }
   ],
   "source": [
    "a = \"kemal aditya\"\n",
    "for i, item in enumerate(a):\n",
    "    print(f'itemnya = {item}, indexnya = {i}')"
   ]
  },
  {
   "cell_type": "code",
   "execution_count": 64,
   "id": "c18a8d21-2dc4-477e-b56a-eb7ceb205671",
   "metadata": {},
   "outputs": [
    {
     "name": "stdout",
     "output_type": "stream",
     "text": [
      "ini v1 = 400, ini v2 = 400 , === index 0\n",
      "ini v1 = 500, ini v2 = 500 , === index 1\n",
      "ini v1 = 600, ini v2 = 600 , === index 2\n"
     ]
    }
   ],
   "source": [
    "var1 = [1,2,3]\n",
    "var2 = [400,500,600]\n",
    "for i,(v1,v2) in enumerate(zip(var1, var2)):\n",
    "    print(f'ini v1 = {v2}, ini v2 = {v2} , === index {i}')"
   ]
  },
  {
   "cell_type": "code",
   "execution_count": 68,
   "id": "d2a1c88a-f7a6-43af-bd34-8092d8f114b3",
   "metadata": {},
   "outputs": [
    {
     "name": "stdout",
     "output_type": "stream",
     "text": [
      "range() range() range() range() range() range() range() range() range() range() range() range() range() range() range() range() range() range() range() range() range() range() range() range() range() range() range() range() range() range() range() range() range() range() range() range() range() range() range() range() range() range() range() range() range() range() range() range() range() range() \n"
     ]
    }
   ],
   "source": [
    "print('range() '*50)"
   ]
  },
  {
   "cell_type": "code",
   "execution_count": 88,
   "id": "e41f3850-505b-4fcb-8431-4cad1f46cec1",
   "metadata": {},
   "outputs": [
    {
     "name": "stdout",
     "output_type": "stream",
     "text": [
      "0\n",
      "1\n",
      "2\n",
      "3\n",
      "4\n",
      "5\n",
      "6\n",
      "7\n",
      "8\n",
      "9\n"
     ]
    }
   ],
   "source": [
    "# range(start, end , step)\n",
    "for i in range(0, 10):\n",
    "    print(i)"
   ]
  },
  {
   "cell_type": "code",
   "execution_count": 80,
   "id": "897ab0a3-3841-4ffd-863f-f4237faa8d50",
   "metadata": {},
   "outputs": [
    {
     "name": "stdout",
     "output_type": "stream",
     "text": [
      "0\n",
      "2\n",
      "4\n",
      "6\n",
      "8\n"
     ]
    }
   ],
   "source": [
    "for i in range(0, 10,2):\n",
    "    print(i)"
   ]
  },
  {
   "cell_type": "code",
   "execution_count": 86,
   "id": "9f212a80-3a47-41dd-a77d-82f146efa714",
   "metadata": {},
   "outputs": [
    {
     "name": "stdout",
     "output_type": "stream",
     "text": [
      "5\n",
      "6\n",
      "7\n",
      "8\n",
      "9\n"
     ]
    }
   ],
   "source": [
    "for i in range(5, 10):\n",
    "    print(i)"
   ]
  },
  {
   "cell_type": "code",
   "execution_count": 98,
   "id": "f68bcf29-9e79-4a87-a7a4-e13101b1ccb8",
   "metadata": {},
   "outputs": [
    {
     "name": "stdout",
     "output_type": "stream",
     "text": [
      "[0, 1, 2, 3, 4, 5, 6, 7, 8, 9]\n"
     ]
    }
   ],
   "source": [
    "x = []\n",
    "for i in range(10):\n",
    "    x.append(i)\n",
    "print(x)"
   ]
  },
  {
   "cell_type": "code",
   "execution_count": null,
   "id": "6145ce97-f06f-4741-86d3-e6bc531d2259",
   "metadata": {},
   "outputs": [],
   "source": []
  },
  {
   "cell_type": "code",
   "execution_count": null,
   "id": "02449395-e49f-4dd5-948b-b4364f4b6ca6",
   "metadata": {},
   "outputs": [],
   "source": []
  },
  {
   "cell_type": "code",
   "execution_count": null,
   "id": "23566e0d-a23b-414c-b977-498eea818ab8",
   "metadata": {},
   "outputs": [],
   "source": []
  },
  {
   "cell_type": "code",
   "execution_count": 100,
   "id": "55dc3014-0cc6-47b4-8b37-7802f9a0ac05",
   "metadata": {},
   "outputs": [
    {
     "name": "stdout",
     "output_type": "stream",
     "text": [
      "WHILE LOOP WHILE LOOP WHILE LOOP WHILE LOOP WHILE LOOP WHILE LOOP WHILE LOOP WHILE LOOP WHILE LOOP WHILE LOOP WHILE LOOP WHILE LOOP WHILE LOOP WHILE LOOP WHILE LOOP WHILE LOOP WHILE LOOP WHILE LOOP WHILE LOOP WHILE LOOP WHILE LOOP WHILE LOOP WHILE LOOP WHILE LOOP WHILE LOOP WHILE LOOP WHILE LOOP WHILE LOOP WHILE LOOP WHILE LOOP WHILE LOOP WHILE LOOP WHILE LOOP WHILE LOOP WHILE LOOP WHILE LOOP WHILE LOOP WHILE LOOP WHILE LOOP WHILE LOOP WHILE LOOP WHILE LOOP WHILE LOOP WHILE LOOP WHILE LOOP WHILE LOOP WHILE LOOP WHILE LOOP WHILE LOOP WHILE LOOP \n"
     ]
    }
   ],
   "source": [
    "print('WHILE LOOP '*50)"
   ]
  },
  {
   "cell_type": "code",
   "execution_count": 106,
   "id": "ca339563-932d-4289-b52d-446b618b9ff1",
   "metadata": {},
   "outputs": [
    {
     "name": "stdout",
     "output_type": "stream",
     "text": [
      "4\n",
      "3\n",
      "2\n",
      "1\n",
      "0\n"
     ]
    }
   ],
   "source": [
    "a = 5 \n",
    "while a>0:\n",
    "    a -= 1\n",
    "    print(a)"
   ]
  },
  {
   "cell_type": "code",
   "execution_count": 108,
   "id": "43102d77-f16e-42c0-a8b1-38fbd6334046",
   "metadata": {},
   "outputs": [
    {
     "name": "stdout",
     "output_type": "stream",
     "text": [
      "4\n",
      "3\n",
      "2\n",
      "1\n",
      "0\n",
      "selesai\n"
     ]
    }
   ],
   "source": [
    "a = 5 \n",
    "while a>0:\n",
    "    a -= 1\n",
    "    print(a)\n",
    "else:\n",
    "    print('selesai')"
   ]
  },
  {
   "cell_type": "code",
   "execution_count": 166,
   "id": "65bb7768-1081-48f4-8bca-22677424bdd3",
   "metadata": {},
   "outputs": [
    {
     "name": "stdout",
     "output_type": "stream",
     "text": [
      "4\n",
      "3\n",
      "2\n"
     ]
    }
   ],
   "source": [
    "a = 5 \n",
    "while a>0:\n",
    "    a -= 1\n",
    "    print(a)\n",
    "    if a == 2: break; #di break di angka 2\n"
   ]
  },
  {
   "cell_type": "code",
   "execution_count": null,
   "id": "742d90be-785a-41be-9aed-d7c9f72b1ac2",
   "metadata": {},
   "outputs": [],
   "source": []
  },
  {
   "cell_type": "code",
   "execution_count": null,
   "id": "dca18ada-3e68-4c16-b3ba-274baae13f33",
   "metadata": {},
   "outputs": [],
   "source": []
  },
  {
   "cell_type": "code",
   "execution_count": null,
   "id": "e8ebf8fb-d024-4691-8e82-b71e1eb9102e",
   "metadata": {},
   "outputs": [],
   "source": []
  },
  {
   "cell_type": "code",
   "execution_count": 110,
   "id": "830a069f-ad49-4f85-babc-d50303254840",
   "metadata": {},
   "outputs": [
    {
     "name": "stdout",
     "output_type": "stream",
     "text": [
      "CONTINUE, PASS, BREAK CONTINUE, PASS, BREAK CONTINUE, PASS, BREAK CONTINUE, PASS, BREAK CONTINUE, PASS, BREAK CONTINUE, PASS, BREAK CONTINUE, PASS, BREAK CONTINUE, PASS, BREAK CONTINUE, PASS, BREAK CONTINUE, PASS, BREAK CONTINUE, PASS, BREAK CONTINUE, PASS, BREAK CONTINUE, PASS, BREAK CONTINUE, PASS, BREAK CONTINUE, PASS, BREAK CONTINUE, PASS, BREAK CONTINUE, PASS, BREAK CONTINUE, PASS, BREAK CONTINUE, PASS, BREAK CONTINUE, PASS, BREAK CONTINUE, PASS, BREAK CONTINUE, PASS, BREAK CONTINUE, PASS, BREAK CONTINUE, PASS, BREAK CONTINUE, PASS, BREAK CONTINUE, PASS, BREAK CONTINUE, PASS, BREAK CONTINUE, PASS, BREAK CONTINUE, PASS, BREAK CONTINUE, PASS, BREAK CONTINUE, PASS, BREAK CONTINUE, PASS, BREAK CONTINUE, PASS, BREAK CONTINUE, PASS, BREAK CONTINUE, PASS, BREAK CONTINUE, PASS, BREAK CONTINUE, PASS, BREAK CONTINUE, PASS, BREAK CONTINUE, PASS, BREAK CONTINUE, PASS, BREAK CONTINUE, PASS, BREAK CONTINUE, PASS, BREAK CONTINUE, PASS, BREAK CONTINUE, PASS, BREAK CONTINUE, PASS, BREAK CONTINUE, PASS, BREAK CONTINUE, PASS, BREAK CONTINUE, PASS, BREAK CONTINUE, PASS, BREAK CONTINUE, PASS, BREAK \n"
     ]
    }
   ],
   "source": [
    "print('CONTINUE, PASS, BREAK '*50)"
   ]
  },
  {
   "cell_type": "code",
   "execution_count": 150,
   "id": "8b33a89a-3ca9-4280-8dfa-750bc9ca6d81",
   "metadata": {},
   "outputs": [],
   "source": [
    "for i in range(5):  ##perbedaan pass dan continue adalah kalo pass bakal kosong ketika menemukan 2 maka harus di tambah else\n",
    "    if i == 2:\n",
    "        pass\n",
    "        # kosong"
   ]
  },
  {
   "cell_type": "code",
   "execution_count": 136,
   "id": "d9c9987d-07db-4f7a-ab67-0ef23587d227",
   "metadata": {},
   "outputs": [
    {
     "name": "stdout",
     "output_type": "stream",
     "text": [
      "0\n",
      "1\n",
      "3\n",
      "4\n"
     ]
    }
   ],
   "source": [
    "for i in range(5):  ##perbedaan pass dan continue adalah kalo pass bakal kosong ketika menemukan 2 maka harus di tambah else\n",
    "    if i == 2:\n",
    "        pass\n",
    "    else:\n",
    "        print(i)"
   ]
  },
  {
   "cell_type": "code",
   "execution_count": 156,
   "id": "1ea4c3db-0f87-4699-8187-f01a7c6c1960",
   "metadata": {},
   "outputs": [
    {
     "name": "stdout",
     "output_type": "stream",
     "text": [
      "0\n",
      "1\n",
      "3\n",
      "4\n"
     ]
    }
   ],
   "source": [
    "for i in range(5):  ##perbedaan pass dan continue adalah kalo pass bakal kosong ketika menemukan 2 maka harus di tambah else\n",
    "    if i == 2:\n",
    "        continue;\n",
    "    print(i)\n"
   ]
  },
  {
   "cell_type": "code",
   "execution_count": 158,
   "id": "966d2f08-7d12-4f6f-965f-86edc23d736b",
   "metadata": {},
   "outputs": [
    {
     "name": "stdout",
     "output_type": "stream",
     "text": [
      "0\n",
      "1\n",
      "2\n"
     ]
    }
   ],
   "source": [
    "for i in range(5):  #break\n",
    "    if i == 3:\n",
    "        break;\n",
    "    print(i)"
   ]
  },
  {
   "cell_type": "code",
   "execution_count": null,
   "id": "db277e70-1c8d-4646-af80-8beb89d87009",
   "metadata": {},
   "outputs": [],
   "source": []
  }
 ],
 "metadata": {
  "kernelspec": {
   "display_name": "Python [conda env:base] *",
   "language": "python",
   "name": "conda-base-py"
  },
  "language_info": {
   "codemirror_mode": {
    "name": "ipython",
    "version": 3
   },
   "file_extension": ".py",
   "mimetype": "text/x-python",
   "name": "python",
   "nbconvert_exporter": "python",
   "pygments_lexer": "ipython3",
   "version": "3.12.7"
  }
 },
 "nbformat": 4,
 "nbformat_minor": 5
}
