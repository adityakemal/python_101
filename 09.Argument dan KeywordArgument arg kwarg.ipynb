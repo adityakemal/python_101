{
 "cells": [
  {
   "cell_type": "markdown",
   "id": "95954953-66aa-4dfa-a43c-8d4db230894c",
   "metadata": {},
   "source": [
    "## *arg"
   ]
  },
  {
   "cell_type": "code",
   "execution_count": 3,
   "id": "aaa0ed0b-3eef-4253-b08d-0a03fe676d5b",
   "metadata": {},
   "outputs": [],
   "source": [
    "#param akan di ubah jadi tuple contoh\n",
    "\n",
    "def list_nama(*nama):\n",
    "    print(nama)"
   ]
  },
  {
   "cell_type": "code",
   "execution_count": 5,
   "id": "fabb4730-0325-48a7-bb57-259c879cb9a4",
   "metadata": {},
   "outputs": [
    {
     "name": "stdout",
     "output_type": "stream",
     "text": [
      "('kemal', 'Eren', 'Rania')\n"
     ]
    }
   ],
   "source": [
    "list_nama('kemal', 'Eren', 'Rania')"
   ]
  },
  {
   "cell_type": "code",
   "execution_count": null,
   "id": "109a07a2-bea1-48c2-98cd-200c9fb49193",
   "metadata": {},
   "outputs": [],
   "source": []
  },
  {
   "cell_type": "markdown",
   "id": "7c0cc957-d0c2-4774-915e-debb3af2ee5d",
   "metadata": {},
   "source": [
    "## **kwarg"
   ]
  },
  {
   "cell_type": "code",
   "execution_count": 64,
   "id": "a04141db-54da-47a2-af73-c13342251e71",
   "metadata": {},
   "outputs": [
    {
     "name": "stdout",
     "output_type": "stream",
     "text": [
      "{'nama': ['kemal', 'Eren', 'Rania'], 'alamat': 'Bandung'}\n",
      "1, kemal\n",
      "2, Eren\n",
      "3, Rania\n",
      "Kita tinggal di Bandung\n"
     ]
    }
   ],
   "source": [
    "#param akan di ubah jadi dictionary example:\n",
    "\n",
    "def mydata(**data):\n",
    "    print(data)\n",
    "    for i, d in enumerate(data['nama']):\n",
    "        print( f'{i+1}, {d}')\n",
    "\n",
    "    \n",
    "    print(f\"Kita tinggal di {data['alamat']}\")\n",
    "\n",
    "mydata(nama= ['kemal', 'Eren', 'Rania'], alamat= 'Bandung')"
   ]
  },
  {
   "cell_type": "code",
   "execution_count": null,
   "id": "48483a54-c09d-4997-8615-fc57e2b4c904",
   "metadata": {},
   "outputs": [],
   "source": []
  }
 ],
 "metadata": {
  "kernelspec": {
   "display_name": "Python [conda env:base] *",
   "language": "python",
   "name": "conda-base-py"
  },
  "language_info": {
   "codemirror_mode": {
    "name": "ipython",
    "version": 3
   },
   "file_extension": ".py",
   "mimetype": "text/x-python",
   "name": "python",
   "nbconvert_exporter": "python",
   "pygments_lexer": "ipython3",
   "version": "3.12.7"
  }
 },
 "nbformat": 4,
 "nbformat_minor": 5
}
