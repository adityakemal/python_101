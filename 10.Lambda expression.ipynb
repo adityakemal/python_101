{
 "cells": [
  {
   "cell_type": "code",
   "execution_count": 4,
   "id": "c03de232-8911-4f9f-b7ef-3d8498e872e0",
   "metadata": {},
   "outputs": [],
   "source": [
    "# biasanya di gunakan ke build in function map filter / sort\n"
   ]
  },
  {
   "cell_type": "markdown",
   "id": "3a3bb384-179e-4eaa-a71d-c88cd46162e4",
   "metadata": {},
   "source": [
    "## map"
   ]
  },
  {
   "cell_type": "code",
   "execution_count": 14,
   "id": "038775dc-97aa-404c-981e-8505cdffdaab",
   "metadata": {},
   "outputs": [
    {
     "data": {
      "text/plain": [
       "[2, 4, 6, 8, 10]"
      ]
     },
     "execution_count": 14,
     "metadata": {},
     "output_type": "execute_result"
    }
   ],
   "source": [
    "data = [1,2,3,4,5]\n",
    "\n",
    "kali_dua = lambda x: x*2 # contoh lambda\n",
    "\n",
    "list(map(kali_dua, data)) #di keluarkan sebagain list"
   ]
  },
  {
   "cell_type": "code",
   "execution_count": 16,
   "id": "ccfe6597-a588-46f0-84ea-66d0d5e1ab0e",
   "metadata": {},
   "outputs": [
    {
     "data": {
      "text/plain": [
       "(2, 4, 6, 8, 10)"
      ]
     },
     "execution_count": 16,
     "metadata": {},
     "output_type": "execute_result"
    }
   ],
   "source": [
    "tuple(map(kali_dua, data))"
   ]
  },
  {
   "cell_type": "code",
   "execution_count": 18,
   "id": "684dd58a-14f8-40d5-bbf6-3b8a1679bc65",
   "metadata": {},
   "outputs": [
    {
     "data": {
      "text/plain": [
       "{2, 4, 6, 8, 10}"
      ]
     },
     "execution_count": 18,
     "metadata": {},
     "output_type": "execute_result"
    }
   ],
   "source": [
    "set(map(kali_dua, data))  "
   ]
  },
  {
   "cell_type": "code",
   "execution_count": 38,
   "id": "e7b84936-f581-4c0c-98a6-411c4e255579",
   "metadata": {},
   "outputs": [],
   "source": [
    "#lebih simple\n",
    "lambdamap = map(lambda x: x*3, [1,2,3])\n",
    "kali_tiga = list(lambdamap)"
   ]
  },
  {
   "cell_type": "code",
   "execution_count": 40,
   "id": "64a2ecc7-9652-4493-bdd8-ec59e5db8e69",
   "metadata": {},
   "outputs": [
    {
     "name": "stdout",
     "output_type": "stream",
     "text": [
      "[3, 6, 9]\n"
     ]
    }
   ],
   "source": [
    "print(kali_tiga)"
   ]
  },
  {
   "cell_type": "code",
   "execution_count": 70,
   "id": "b7ccb14f-2d5b-460e-81ae-95b91d1862a4",
   "metadata": {},
   "outputs": [
    {
     "name": "stdout",
     "output_type": "stream",
     "text": [
      "[{'nama': 'kemal', 'hasil': 180}, {'nama': 'rania', 'hasil': 150}, {'nama': 'eren', 'hasil': 200}]\n"
     ]
    }
   ],
   "source": [
    "#contoh dengan list dictionary\n",
    "\n",
    "arr = [\n",
    "    {\"nama\":\"kemal\", \"math\" : 90, \"it\": 90},\n",
    "    {\"nama\":\"rania\", \"math\" : 100, \"it\": 50},\n",
    "    {\"nama\":\"eren\", \"math\" : 100, \"it\": 100},\n",
    "]\n",
    "\n",
    "\n",
    "remap = list(map(lambda x: {\"nama\" : x[\"nama\"], \"hasil\" : x['math'] + x['it']}, arr))\n",
    "print(remap)\n"
   ]
  },
  {
   "cell_type": "code",
   "execution_count": 82,
   "id": "e979ba8d-2b30-48b1-af30-695073c1ef8b",
   "metadata": {},
   "outputs": [
    {
     "name": "stdout",
     "output_type": "stream",
     "text": [
      "[{'nama': 'kemal', 'math': 90, 'it': 90, 'hasil': 180}, {'nama': 'rania', 'math': 100, 'it': 50, 'hasil': 150}, {'nama': 'eren', 'math': 100, 'it': 100, 'hasil': 200}]\n"
     ]
    }
   ],
   "source": [
    "\n",
    "\n",
    "# lebih simple seperti di js\n",
    "\n",
    "remap = list(map(lambda x: {**x,\"hasil\" : x['math'] + x['it']}, arr))\n",
    "print(remap)\n",
    "\n"
   ]
  },
  {
   "cell_type": "code",
   "execution_count": 90,
   "id": "c1c0925c-c239-47e2-8243-4697c96b4b98",
   "metadata": {},
   "outputs": [
    {
     "name": "stdout",
     "output_type": "stream",
     "text": [
      "[{'nama': 'kemal', 'math': 90, 'it': 90, 'hasil': 180}, {'nama': 'rania', 'math': 100, 'it': 50, 'hasil': 150}, {'nama': 'eren', 'math': 100, 'it': 100, 'hasil': 200}]\n"
     ]
    }
   ],
   "source": [
    "\n",
    "#pake forloop\n",
    "\n",
    "maplist = [{**x, \"hasil\" : x['math'] + x['it'] } for x in arr]\n",
    "\n",
    "print(maplist)"
   ]
  },
  {
   "cell_type": "code",
   "execution_count": null,
   "id": "156fd0a0-1985-4b86-ba57-aa6430b2e460",
   "metadata": {},
   "outputs": [],
   "source": []
  },
  {
   "cell_type": "code",
   "execution_count": null,
   "id": "81386883-00c5-4ebd-95bf-0e93297c6ab7",
   "metadata": {},
   "outputs": [],
   "source": []
  },
  {
   "cell_type": "code",
   "execution_count": null,
   "id": "af1b333a-afc1-47a0-aa09-d04e80205ca5",
   "metadata": {},
   "outputs": [],
   "source": []
  },
  {
   "cell_type": "markdown",
   "id": "83138d6e-3e1c-49e2-ad7a-e76aa801b5ab",
   "metadata": {},
   "source": [
    "## filter"
   ]
  },
  {
   "cell_type": "code",
   "execution_count": 103,
   "id": "2b5c869d-8808-47d9-a629-0d74e74bb93b",
   "metadata": {},
   "outputs": [
    {
     "name": "stdout",
     "output_type": "stream",
     "text": [
      "[{'nama': 'kemal', 'math': 90, 'it': 90}, {'nama': 'eren', 'math': 100, 'it': 100}]\n"
     ]
    }
   ],
   "source": [
    "\n",
    "filtered = list(filter(lambda x: x['nama'] != 'rania' , arr))\n",
    "print(filtered)"
   ]
  },
  {
   "cell_type": "code",
   "execution_count": null,
   "id": "48cd090c-9654-447d-a629-b0f6346d4f23",
   "metadata": {},
   "outputs": [],
   "source": []
  },
  {
   "cell_type": "markdown",
   "id": "ff8fe88a-bc42-4e5b-bd32-b1bbdb290a93",
   "metadata": {},
   "source": [
    "## sorted"
   ]
  },
  {
   "cell_type": "code",
   "execution_count": 124,
   "id": "f23b7aef-cae8-44e7-8375-2318814ea29c",
   "metadata": {},
   "outputs": [
    {
     "data": {
      "text/plain": [
       "[{'nama': 'eren', 'math': 100, 'it': 100},\n",
       " {'nama': 'kemal', 'math': 90, 'it': 90},\n",
       " {'nama': 'rania', 'math': 100, 'it': 50}]"
      ]
     },
     "execution_count": 124,
     "metadata": {},
     "output_type": "execute_result"
    }
   ],
   "source": [
    "\n",
    "\n",
    " list(sorted(arr, key = lambda x: x['it'], reverse=True))\n"
   ]
  },
  {
   "cell_type": "code",
   "execution_count": null,
   "id": "c99c1f3a-e2c2-44fa-ad52-a42800448c74",
   "metadata": {},
   "outputs": [],
   "source": [
    "print('oke')"
   ]
  },
  {
   "cell_type": "code",
   "execution_count": null,
   "id": "98e0e030",
   "metadata": {},
   "outputs": [],
   "source": []
  }
 ],
 "metadata": {
  "kernelspec": {
   "display_name": "Python 3",
   "language": "python",
   "name": "python3"
  },
  "language_info": {
   "codemirror_mode": {
    "name": "ipython",
    "version": 3
   },
   "file_extension": ".py",
   "mimetype": "text/x-python",
   "name": "python",
   "nbconvert_exporter": "python",
   "pygments_lexer": "ipython3",
   "version": "3.13.1"
  }
 },
 "nbformat": 4,
 "nbformat_minor": 5
}
