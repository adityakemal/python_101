{
 "cells": [
  {
   "cell_type": "code",
   "execution_count": 162,
   "id": "e246a7a6-3990-4348-b578-78cb44420356",
   "metadata": {},
   "outputs": [],
   "source": [
    "# encapsulation\n",
    "#prinsip : sebuah kelas dapat mengontrol variable mana yg bisa di access, protected dan unaccesable\n",
    "\n",
    "# public = namavar -> bisa di ubah dari luar class\n",
    "# protected = _namavar -> single underscore adalah protected \"tidak di anjurkan\" di access dan di ubah walopun bisa\n",
    "# private = __namavar -> Double underscore adalah unaccessable, artinya \"tidak bisa/boleh di access dan di ubah\"\n",
    "\n",
    "#private bisa di access (tidak di anjurkan) conth: _Orang__namavar\n"
   ]
  },
  {
   "cell_type": "code",
   "execution_count": 179,
   "id": "3925ff68-9eeb-483b-bd2b-8348bde1b38b",
   "metadata": {},
   "outputs": [],
   "source": [
    "class Orang:\n",
    "    _infoprivate = 'info protected'\n",
    "    __inforahasia = 'info private var'\n",
    "    def __init__(self, nama, profesi, usia, password):\n",
    "        self.nama= nama\n",
    "        self.profesi= profesi\n",
    "        self._usia= usia #protected\n",
    "        self.__password= password\n",
    "\n",
    "    def tampil_private(self):\n",
    "        print(f'ini adalah private variable, password {self.__password}, info = {Orang.__inforahasia}')"
   ]
  },
  {
   "cell_type": "code",
   "execution_count": 181,
   "id": "f5f779ab-80b8-4178-8a2d-7a7cf699adc1",
   "metadata": {},
   "outputs": [],
   "source": [
    "kemal = Orang(nama='kemal', profesi='programmer', usia= 30, password='saminaminaee')"
   ]
  },
  {
   "cell_type": "code",
   "execution_count": 183,
   "id": "13e4ea39-5410-41dd-8090-d83f68bf05d0",
   "metadata": {},
   "outputs": [
    {
     "ename": "AttributeError",
     "evalue": "'Orang' object has no attribute '__password'",
     "output_type": "error",
     "traceback": [
      "\u001b[0;31m---------------------------------------------------------------------------\u001b[0m",
      "\u001b[0;31mAttributeError\u001b[0m                            Traceback (most recent call last)",
      "Cell \u001b[0;32mIn[183], line 1\u001b[0m\n\u001b[0;32m----> 1\u001b[0m kemal\u001b[38;5;241m.\u001b[39m__password\n",
      "\u001b[0;31mAttributeError\u001b[0m: 'Orang' object has no attribute '__password'"
     ]
    }
   ],
   "source": [
    "kemal.__password"
   ]
  },
  {
   "cell_type": "code",
   "execution_count": 185,
   "id": "3a94ebd2-947e-4e1b-bbb9-1a340a672b46",
   "metadata": {},
   "outputs": [
    {
     "name": "stdout",
     "output_type": "stream",
     "text": [
      "ini adalah private variable, password saminaminaee, info = info private var\n"
     ]
    }
   ],
   "source": [
    "kemal.tampil_private()"
   ]
  },
  {
   "cell_type": "code",
   "execution_count": 187,
   "id": "7e230970-dfa4-4fd7-b64f-cf7fb0c5837c",
   "metadata": {},
   "outputs": [
    {
     "data": {
      "text/plain": [
       "'saminaminaee'"
      ]
     },
     "execution_count": 187,
     "metadata": {},
     "output_type": "execute_result"
    }
   ],
   "source": [
    "# access private, not recomended\n",
    "kemal._Orang__password"
   ]
  },
  {
   "cell_type": "code",
   "execution_count": null,
   "id": "344f38d5-cec2-4366-9723-9ddcdf309614",
   "metadata": {},
   "outputs": [],
   "source": []
  },
  {
   "cell_type": "markdown",
   "id": "7a799a2a-3475-4658-9689-d09f9051be82",
   "metadata": {},
   "source": [
    "## PRINSIP ENCAPSULATION"
   ]
  },
  {
   "cell_type": "code",
   "execution_count": 214,
   "id": "fb1c28cf-6307-49bf-a797-bebced51f28d",
   "metadata": {},
   "outputs": [],
   "source": [
    "class AkunBank:\n",
    "    def __init__(self, norek, saldo, pin):\n",
    "        self.norek = norek\n",
    "        self._saldo = saldo #protected\n",
    "        self.__pin = pin #private\n",
    "\n",
    "    def tambah_saldo(self, nominal_tambah):\n",
    "        self._saldo += nominal_tambah\n",
    "\n",
    "    def tarik_saldo(self, nominal_tarik, pin):\n",
    "        \n",
    "        if pin == self.__pin:\n",
    "            \n",
    "            if nominal_tarik <= self._saldo:\n",
    "                self._saldo -= nominal_tarik\n",
    "                print(f'Anda berhasil menarik saldo Rp {nominal_tarik}')\n",
    "                print(f'Sisa saldo anda Rp {self._saldo}')\n",
    "            else:\n",
    "                print(\"Saldo anda tidak mencukupi\")\n",
    "\n",
    "        else:\n",
    "            print(\"Pin anda salah!\")\n",
    "\n",
    "    def ganti_pin(self, pin_lama, pin_baru):\n",
    "        if pin_lama == self.__pin:\n",
    "            self.__pin = pin_baru\n",
    "            print('Pin anda berhasil di ubah ✅')\n",
    "        else:\n",
    "            print('Pin yang adna masukan salah!')"
   ]
  },
  {
   "cell_type": "code",
   "execution_count": 216,
   "id": "121293f8-da09-48cc-9160-94bd997ce8a1",
   "metadata": {},
   "outputs": [],
   "source": [
    "akun1 = AkunBank('1234211', 2000000, 12345)"
   ]
  },
  {
   "cell_type": "code",
   "execution_count": 218,
   "id": "3ca1ca64-fc3e-4612-b8da-d26958a2ca9c",
   "metadata": {},
   "outputs": [
    {
     "data": {
      "text/plain": [
       "'1234211'"
      ]
     },
     "execution_count": 218,
     "metadata": {},
     "output_type": "execute_result"
    }
   ],
   "source": [
    "akun1.norek"
   ]
  },
  {
   "cell_type": "code",
   "execution_count": 220,
   "id": "3a69844b-4c0f-4817-b028-0d392dea0f89",
   "metadata": {},
   "outputs": [],
   "source": [
    "akun1.tambah_saldo(300000)"
   ]
  },
  {
   "cell_type": "code",
   "execution_count": 222,
   "id": "2b0a3bee-0cc8-4d4e-9081-836b27797cfe",
   "metadata": {},
   "outputs": [
    {
     "name": "stdout",
     "output_type": "stream",
     "text": [
      "Anda berhasil menarik saldo Rp 600000\n",
      "Sisa saldo anda Rp 1700000\n"
     ]
    }
   ],
   "source": [
    "akun1.tarik_saldo(600000, 12345)"
   ]
  },
  {
   "cell_type": "code",
   "execution_count": 224,
   "id": "0d2b7cef-8eb0-4268-ab45-1702784194fb",
   "metadata": {},
   "outputs": [
    {
     "name": "stdout",
     "output_type": "stream",
     "text": [
      "Saldo anda tidak mencukupi\n"
     ]
    }
   ],
   "source": [
    "akun1.tarik_saldo(9999999999, 12345)"
   ]
  },
  {
   "cell_type": "code",
   "execution_count": 226,
   "id": "28987017-cb4c-4950-8ead-3d7ae4c2e923",
   "metadata": {},
   "outputs": [
    {
     "name": "stdout",
     "output_type": "stream",
     "text": [
      "Pin anda salah!\n"
     ]
    }
   ],
   "source": [
    "akun1.tarik_saldo(100000, 22345)"
   ]
  },
  {
   "cell_type": "code",
   "execution_count": 228,
   "id": "e20973c1-217d-41db-89a8-666c503c9374",
   "metadata": {},
   "outputs": [
    {
     "name": "stdout",
     "output_type": "stream",
     "text": [
      "Pin anda berhasil di ubah ✅\n"
     ]
    }
   ],
   "source": [
    "akun1.ganti_pin(12345, 54321)"
   ]
  },
  {
   "cell_type": "code",
   "execution_count": 230,
   "id": "c6166511-c8ec-4b10-93c8-19ad84acb436",
   "metadata": {},
   "outputs": [
    {
     "name": "stdout",
     "output_type": "stream",
     "text": [
      "Pin anda salah!\n"
     ]
    }
   ],
   "source": [
    "akun1.tarik_saldo(500000, 12345)"
   ]
  },
  {
   "cell_type": "code",
   "execution_count": null,
   "id": "c8626b32-f366-4de8-8389-807f23ff20e9",
   "metadata": {},
   "outputs": [],
   "source": []
  },
  {
   "cell_type": "code",
   "execution_count": null,
   "id": "8f64334c-8b1f-4442-ba6d-e04ed50b8b10",
   "metadata": {},
   "outputs": [],
   "source": []
  },
  {
   "cell_type": "code",
   "execution_count": null,
   "id": "b411d83c-11ed-4e40-8569-2d8ecf7baf61",
   "metadata": {},
   "outputs": [],
   "source": []
  },
  {
   "cell_type": "code",
   "execution_count": null,
   "id": "42a7a6fc-2e70-4c5c-8682-02a73aefcf76",
   "metadata": {},
   "outputs": [],
   "source": []
  },
  {
   "cell_type": "code",
   "execution_count": null,
   "id": "355d62eb-9b46-45ce-96a8-d2295b75dbd6",
   "metadata": {},
   "outputs": [],
   "source": []
  }
 ],
 "metadata": {
  "kernelspec": {
   "display_name": "Python [conda env:base] *",
   "language": "python",
   "name": "conda-base-py"
  },
  "language_info": {
   "codemirror_mode": {
    "name": "ipython",
    "version": 3
   },
   "file_extension": ".py",
   "mimetype": "text/x-python",
   "name": "python",
   "nbconvert_exporter": "python",
   "pygments_lexer": "ipython3",
   "version": "3.12.7"
  }
 },
 "nbformat": 4,
 "nbformat_minor": 5
}
