{
 "cells": [
  {
   "cell_type": "markdown",
   "id": "18f9d0b4-41d3-4abb-b4e0-4d9bbf6f462d",
   "metadata": {},
   "source": [
    "## inheritance "
   ]
  },
  {
   "cell_type": "code",
   "execution_count": null,
   "id": "94c36e27-a77f-446c-b788-12537a850614",
   "metadata": {},
   "outputs": [],
   "source": [
    "# kucing mewarisi variable/attibute dan method dari Hewan (super class) "
   ]
  },
  {
   "cell_type": "code",
   "execution_count": 7,
   "id": "4bc8a505-717a-4b64-b908-c662059f9a18",
   "metadata": {},
   "outputs": [],
   "source": [
    "class Hewan:\n",
    "    jumlah= 0\n",
    "    \n",
    "    def __init__(self, jenis,umur, suara):\n",
    "        self.jenis = jenis\n",
    "        self.suara = suara\n",
    "        self.umur = umur\n",
    "        Hewan.jumlah +=1\n",
    "\n",
    "\n",
    "class Kucing(Hewan): #kucing = subclass , Hewan = superclass\n",
    "    pass\n",
    "        \n",
    "        "
   ]
  },
  {
   "cell_type": "code",
   "execution_count": 11,
   "id": "76ec741a-9c7a-47cb-ae03-2b33285acc87",
   "metadata": {},
   "outputs": [
    {
     "ename": "TypeError",
     "evalue": "Hewan.__init__() missing 3 required positional arguments: 'jenis', 'umur', and 'suara'",
     "output_type": "error",
     "traceback": [
      "\u001b[0;31m---------------------------------------------------------------------------\u001b[0m",
      "\u001b[0;31mTypeError\u001b[0m                                 Traceback (most recent call last)",
      "Cell \u001b[0;32mIn[11], line 1\u001b[0m\n\u001b[0;32m----> 1\u001b[0m kucing1 \u001b[38;5;241m=\u001b[39m Kucing()\n",
      "\u001b[0;31mTypeError\u001b[0m: Hewan.__init__() missing 3 required positional arguments: 'jenis', 'umur', and 'suara'"
     ]
    }
   ],
   "source": [
    "kucing1 = Kucing() #jika param kosong akan error, karna memiliki params dari si super/Hewan"
   ]
  },
  {
   "cell_type": "code",
   "execution_count": 13,
   "id": "811842ca-b14b-4888-8498-721bd074f614",
   "metadata": {},
   "outputs": [],
   "source": [
    "kucing1 = Kucing('kucing', 10, 'meow')"
   ]
  },
  {
   "cell_type": "code",
   "execution_count": 15,
   "id": "a57420de-996a-4047-a1bb-17e722874e6b",
   "metadata": {},
   "outputs": [
    {
     "data": {
      "text/plain": [
       "'meow'"
      ]
     },
     "execution_count": 15,
     "metadata": {},
     "output_type": "execute_result"
    }
   ],
   "source": [
    "kucing1.suara"
   ]
  },
  {
   "cell_type": "markdown",
   "id": "5b9ab1cb-06c1-4389-aee9-ce68a84850e3",
   "metadata": {},
   "source": [
    "## method overiding"
   ]
  },
  {
   "cell_type": "code",
   "execution_count": 65,
   "id": "e6d94e05-fdcc-4f44-b159-faa5dc0f4fb2",
   "metadata": {},
   "outputs": [],
   "source": [
    "class Hewan:\n",
    "    jumlah= 0\n",
    "    \n",
    "    def __init__(self, jenis, umur, suara):\n",
    "        self.jenis = jenis\n",
    "        self.suara = suara\n",
    "        self.umur = umur\n",
    "        Hewan.jumlah +=1\n",
    "\n",
    "    def info(self):\n",
    "        print('ini hewan class')\n",
    "\n",
    "\n",
    "class Kucing(Hewan):\n",
    "\n",
    "    def info(self): #overide info\n",
    "        print('ini Kucing class')\n"
   ]
  },
  {
   "cell_type": "code",
   "execution_count": 67,
   "id": "d05f3e0c-d177-40bd-873c-9fd566a83fde",
   "metadata": {},
   "outputs": [],
   "source": [
    "kucing1 = Kucing('kucing', 10, 'meow')"
   ]
  },
  {
   "cell_type": "code",
   "execution_count": 69,
   "id": "a8416d55-582f-4fc9-ad02-fa59bd1ab5e5",
   "metadata": {},
   "outputs": [
    {
     "name": "stdout",
     "output_type": "stream",
     "text": [
      "ini Kucing class\n"
     ]
    }
   ],
   "source": [
    "kucing1.info()"
   ]
  },
  {
   "cell_type": "code",
   "execution_count": null,
   "id": "9e3bc9c7-3f23-4f33-a328-a22d8c61ab92",
   "metadata": {},
   "outputs": [],
   "source": []
  },
  {
   "cell_type": "code",
   "execution_count": null,
   "id": "18a80908-2688-4f87-8456-ca8c137f777f",
   "metadata": {},
   "outputs": [],
   "source": []
  },
  {
   "cell_type": "markdown",
   "id": "49647f69-f94c-43e2-ae83-d4624260c3f6",
   "metadata": {},
   "source": [
    "## built-in function super()"
   ]
  },
  {
   "cell_type": "code",
   "execution_count": 74,
   "id": "9ad92eae-d293-44b2-ad76-ed1d382883b9",
   "metadata": {},
   "outputs": [],
   "source": [
    "class Hewan:\n",
    "    jumlah= 0\n",
    "    \n",
    "    def __init__(self, jenis, umur, suara):\n",
    "        self.jenis = jenis\n",
    "        self.suara = suara\n",
    "        self.umur = umur\n",
    "        Hewan.jumlah +=1\n",
    "\n",
    "    def info(self):\n",
    "        print('ini hewan class')\n",
    "\n",
    "\n",
    "class Kucing(Hewan): #kucing = subclass , Hewan = superclass\n",
    "    def __init__(self,jenis, umur, suara, warna):\n",
    "        super().__init__(jenis, umur, suara) # panggil attribut/vars yg ada di dalam sama sperti manggil self.jenis = jenis\n",
    "        self.warna = warna\n",
    "\n",
    "    def info(self):\n",
    "        print('ini Kucing class')\n",
    "\n",
    "    def info_all(self):\n",
    "        self.info()\n",
    "        super().info() # manggil method di super"
   ]
  },
  {
   "cell_type": "code",
   "execution_count": 76,
   "id": "0c01daa7-ce37-4846-8b7d-b998593f6e26",
   "metadata": {},
   "outputs": [],
   "source": [
    "kucing1 = Kucing('kucing', 10, 'meow', 'oren')"
   ]
  },
  {
   "cell_type": "code",
   "execution_count": 78,
   "id": "95955f69-66d0-4a20-8e3a-d89b2a0a9199",
   "metadata": {},
   "outputs": [
    {
     "name": "stdout",
     "output_type": "stream",
     "text": [
      "ini Kucing class\n",
      "ini hewan class\n"
     ]
    }
   ],
   "source": [
    "kucing1.info_all()"
   ]
  },
  {
   "cell_type": "code",
   "execution_count": null,
   "id": "3e775fab-4d3d-47ee-a368-88d534179566",
   "metadata": {},
   "outputs": [],
   "source": []
  },
  {
   "cell_type": "code",
   "execution_count": null,
   "id": "1cff7072-c3f6-4bd0-998a-cca9a090e105",
   "metadata": {},
   "outputs": [],
   "source": []
  }
 ],
 "metadata": {
  "kernelspec": {
   "display_name": "Python [conda env:base] *",
   "language": "python",
   "name": "conda-base-py"
  },
  "language_info": {
   "codemirror_mode": {
    "name": "ipython",
    "version": 3
   },
   "file_extension": ".py",
   "mimetype": "text/x-python",
   "name": "python",
   "nbconvert_exporter": "python",
   "pygments_lexer": "ipython3",
   "version": "3.12.7"
  }
 },
 "nbformat": 4,
 "nbformat_minor": 5
}
