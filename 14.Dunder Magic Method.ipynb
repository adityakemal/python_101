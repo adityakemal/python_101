{
 "cells": [
  {
   "cell_type": "code",
   "execution_count": 4,
   "id": "f9541426-e9e3-49b6-88f9-50f31c37b287",
   "metadata": {},
   "outputs": [],
   "source": [
    "# DunDer (Double Underscore)\n",
    "# umumnya hanya di gunakan di dalam class"
   ]
  },
  {
   "cell_type": "code",
   "execution_count": 50,
   "id": "f018714b-46ae-45be-bdc0-d3f8dd7caf6d",
   "metadata": {},
   "outputs": [],
   "source": [
    "class Buku:\n",
    "    def __init__(self, judul, pengarang, halaman):\n",
    "        self.judul = judul\n",
    "        self.pengarang = pengarang\n",
    "        self.halaman = halaman\n",
    "\n",
    "    def __str__(self):\n",
    "        return f'{self.judul} oleh {self.pengarang}'\n",
    "\n",
    "    def __len__(self):\n",
    "        return self.halaman\n",
    "\n",
    "    def __add__(self, bukulain):\n",
    "        return self.halaman + bukulain.halaman\n",
    "\n",
    "    def __del__(self):\n",
    "        print('buku ini sudah di hapus')\n"
   ]
  },
  {
   "cell_type": "code",
   "execution_count": 52,
   "id": "72fe5190-2620-4c2b-9d7e-2181928a5b56",
   "metadata": {},
   "outputs": [
    {
     "name": "stdout",
     "output_type": "stream",
     "text": [
      "buku ini sudah di hapus\n"
     ]
    }
   ],
   "source": [
    "buku1 = Buku('JK Rowling', \"Harry Potter\", 400)"
   ]
  },
  {
   "cell_type": "code",
   "execution_count": 54,
   "id": "2611b51d-f7e0-449c-9c0a-8aa7b8b02ccc",
   "metadata": {},
   "outputs": [
    {
     "name": "stdout",
     "output_type": "stream",
     "text": [
      "JK Rowling oleh Harry Potter\n"
     ]
    }
   ],
   "source": [
    "print(buku1) #LANGSUNG KE PANGGIL STRINGNYA"
   ]
  },
  {
   "cell_type": "code",
   "execution_count": 56,
   "id": "d0e7847f-03e5-4469-9f25-66ab2481da0b",
   "metadata": {},
   "outputs": [
    {
     "data": {
      "text/plain": [
       "400"
      ]
     },
     "execution_count": 56,
     "metadata": {},
     "output_type": "execute_result"
    }
   ],
   "source": [
    "len(buku1) #lansung ke panggil length nya dari __len__"
   ]
  },
  {
   "cell_type": "code",
   "execution_count": 58,
   "id": "8bee3af7-48f6-431c-9997-ecd8c8133153",
   "metadata": {},
   "outputs": [
    {
     "name": "stdout",
     "output_type": "stream",
     "text": [
      "buku ini sudah di hapus\n",
      "buku ini sudah di hapus\n"
     ]
    }
   ],
   "source": [
    "buku1 = Buku('JK Rowling', \"Harry Potter\", 400)\n",
    "buku2 = Buku('Shinichi', \"Conan\", 600)"
   ]
  },
  {
   "cell_type": "code",
   "execution_count": 60,
   "id": "ad33c163-b9e0-47ed-b485-c7d090166894",
   "metadata": {},
   "outputs": [
    {
     "data": {
      "text/plain": [
       "1000"
      ]
     },
     "execution_count": 60,
     "metadata": {},
     "output_type": "execute_result"
    }
   ],
   "source": [
    "buku1 + buku2 #contoh dunder __add__"
   ]
  },
  {
   "cell_type": "code",
   "execution_count": 62,
   "id": "a8df9a8b-87db-4bc2-bf7b-da3be91601d9",
   "metadata": {},
   "outputs": [
    {
     "name": "stdout",
     "output_type": "stream",
     "text": [
      "buku ini sudah di hapus\n"
     ]
    }
   ],
   "source": [
    "del buku1\n"
   ]
  },
  {
   "cell_type": "code",
   "execution_count": 64,
   "id": "f776dcd8-e3ad-47da-900f-1ee5d4e14087",
   "metadata": {},
   "outputs": [
    {
     "ename": "NameError",
     "evalue": "name 'buku1' is not defined",
     "output_type": "error",
     "traceback": [
      "\u001b[0;31m---------------------------------------------------------------------------\u001b[0m",
      "\u001b[0;31mNameError\u001b[0m                                 Traceback (most recent call last)",
      "Cell \u001b[0;32mIn[64], line 1\u001b[0m\n\u001b[0;32m----> 1\u001b[0m \u001b[38;5;28mprint\u001b[39m(buku1)\n",
      "\u001b[0;31mNameError\u001b[0m: name 'buku1' is not defined"
     ]
    }
   ],
   "source": [
    "print(buku1)"
   ]
  },
  {
   "cell_type": "code",
   "execution_count": 66,
   "id": "689c637c-102f-4b6d-8ffa-a463f174d9c2",
   "metadata": {},
   "outputs": [
    {
     "name": "stdout",
     "output_type": "stream",
     "text": [
      "Shinichi oleh Conan\n"
     ]
    }
   ],
   "source": [
    "print(buku2)"
   ]
  },
  {
   "cell_type": "code",
   "execution_count": null,
   "id": "f673dba5-fbbe-4603-8c8a-d639f6c59eef",
   "metadata": {},
   "outputs": [],
   "source": []
  }
 ],
 "metadata": {
  "kernelspec": {
   "display_name": "Python [conda env:base] *",
   "language": "python",
   "name": "conda-base-py"
  },
  "language_info": {
   "codemirror_mode": {
    "name": "ipython",
    "version": 3
   },
   "file_extension": ".py",
   "mimetype": "text/x-python",
   "name": "python",
   "nbconvert_exporter": "python",
   "pygments_lexer": "ipython3",
   "version": "3.12.7"
  }
 },
 "nbformat": 4,
 "nbformat_minor": 5
}
