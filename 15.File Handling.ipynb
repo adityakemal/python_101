{
 "cells": [
  {
   "cell_type": "markdown",
   "id": "88f965d5-91aa-49fd-9bc2-b3c345787886",
   "metadata": {},
   "source": [
    "## Membuat File"
   ]
  },
  {
   "cell_type": "code",
   "execution_count": 66,
   "id": "2ec43bd4-cecd-4c18-8292-79c551e4de8f",
   "metadata": {},
   "outputs": [],
   "source": [
    "filebaru = open('contoh.txt', mode='w' ) # w untuk write"
   ]
  },
  {
   "cell_type": "code",
   "execution_count": 8,
   "id": "6a741a1c-5554-4165-9326-03c3984aa1f4",
   "metadata": {},
   "outputs": [
    {
     "data": {
      "text/plain": [
       "20"
      ]
     },
     "execution_count": 8,
     "metadata": {},
     "output_type": "execute_result"
    }
   ],
   "source": [
    "filebaru.write('Halo bro \\n')\n",
    "filebaru.write('ini adalah file baru')"
   ]
  },
  {
   "cell_type": "code",
   "execution_count": 14,
   "id": "5f9a78a7-bdbc-4c8b-9336-2ecc0895d87e",
   "metadata": {},
   "outputs": [],
   "source": [
    "filebaru.close()"
   ]
  },
  {
   "cell_type": "code",
   "execution_count": 22,
   "id": "c0ed23cb-a91e-480b-85cf-e15479be4460",
   "metadata": {},
   "outputs": [
    {
     "data": {
      "text/plain": [
       "29"
      ]
     },
     "execution_count": 22,
     "metadata": {},
     "output_type": "execute_result"
    }
   ],
   "source": [
    "#menambahkan isi file\n",
    "\n",
    "filebaru = open('contoh.txt', mode='a' ) #mode a untuk nambah\n",
    "\n",
    "filebaru.write('\\n ini adalah penambahan wwkwk')\n",
    "\n"
   ]
  },
  {
   "cell_type": "code",
   "execution_count": 20,
   "id": "d78f5ba0-5416-4719-a3bc-7ba29deca072",
   "metadata": {},
   "outputs": [],
   "source": [
    "filebaru.close()"
   ]
  },
  {
   "cell_type": "code",
   "execution_count": null,
   "id": "dd38ed9b-0fa5-4915-8e15-f2ebc38ce630",
   "metadata": {},
   "outputs": [],
   "source": []
  },
  {
   "cell_type": "code",
   "execution_count": null,
   "id": "6b91928a-416f-48fb-b999-8fb809d2b64a",
   "metadata": {},
   "outputs": [],
   "source": []
  },
  {
   "cell_type": "markdown",
   "id": "4a94013f-6cd7-461d-bf6a-b52f2ec92adf",
   "metadata": {},
   "source": [
    "## Membaca File"
   ]
  },
  {
   "cell_type": "code",
   "execution_count": 24,
   "id": "6b8511f7-e2a5-4613-abcf-e0d245b7d352",
   "metadata": {},
   "outputs": [
    {
     "data": {
      "text/plain": [
       "'Halo bro \\nini adalah file baru\\n ini adalah penambahan wwkwk'"
      ]
     },
     "execution_count": 24,
     "metadata": {},
     "output_type": "execute_result"
    }
   ],
   "source": [
    "filebaru = open('contoh.txt', mode='r' ) #mode r untuk read\n",
    "\n",
    "filebaru.read()"
   ]
  },
  {
   "cell_type": "code",
   "execution_count": 28,
   "id": "45c84262-c638-4d0a-aa08-d6c422ce4983",
   "metadata": {},
   "outputs": [
    {
     "data": {
      "text/plain": [
       "''"
      ]
     },
     "execution_count": 28,
     "metadata": {},
     "output_type": "execute_result"
    }
   ],
   "source": [
    "filebaru.read() #akan terbaca kosong karna dusah di baca diatas (cursornya di belakang / offset)"
   ]
  },
  {
   "cell_type": "code",
   "execution_count": 30,
   "id": "d2bc8cc7-1d1d-463e-9446-33fee54b2809",
   "metadata": {},
   "outputs": [
    {
     "data": {
      "text/plain": [
       "0"
      ]
     },
     "execution_count": 30,
     "metadata": {},
     "output_type": "execute_result"
    }
   ],
   "source": [
    "#untuk baca dari awal kasi offset menggunakan seek / balik lagi dari awal\n",
    "\n",
    "filebaru.seek(0)"
   ]
  },
  {
   "cell_type": "code",
   "execution_count": 32,
   "id": "7519adb3-886f-461c-b328-f9179180ddaf",
   "metadata": {},
   "outputs": [
    {
     "data": {
      "text/plain": [
       "'Halo bro \\nini adalah file baru\\n ini adalah penambahan wwkwk\\n ini adalah penambahan wwkwk'"
      ]
     },
     "execution_count": 32,
     "metadata": {},
     "output_type": "execute_result"
    }
   ],
   "source": [
    "filebaru.read()"
   ]
  },
  {
   "cell_type": "code",
   "execution_count": 38,
   "id": "f6a3f722-5ad1-4991-921b-f3c7e02d2d1f",
   "metadata": {},
   "outputs": [],
   "source": [
    "filebaru.seek(0)\n",
    "konten = filebaru.read()"
   ]
  },
  {
   "cell_type": "code",
   "execution_count": 42,
   "id": "e6b34872-9bf1-489d-9945-11546b6937e6",
   "metadata": {},
   "outputs": [
    {
     "name": "stdout",
     "output_type": "stream",
     "text": [
      "Halo bro \n",
      "ini adalah file baru\n",
      " ini adalah penambahan wwkwk\n",
      " ini adalah penambahan wwkwk\n"
     ]
    }
   ],
   "source": [
    "print(konten)"
   ]
  },
  {
   "cell_type": "code",
   "execution_count": 60,
   "id": "ae7ac02b-b9ad-492e-997a-d5d69260eac6",
   "metadata": {},
   "outputs": [
    {
     "data": {
      "text/plain": [
       "'Halo bro \\n'"
      ]
     },
     "execution_count": 60,
     "metadata": {},
     "output_type": "execute_result"
    }
   ],
   "source": [
    "# membaca per baris\n",
    "filebaru.seek(0)\n",
    "filebaru.readline()"
   ]
  },
  {
   "cell_type": "code",
   "execution_count": 56,
   "id": "fad38e1c-62ad-40cb-804b-3ed1e61bf8c9",
   "metadata": {},
   "outputs": [
    {
     "data": {
      "text/plain": [
       "'ini adalah file baru\\n'"
      ]
     },
     "execution_count": 56,
     "metadata": {},
     "output_type": "execute_result"
    }
   ],
   "source": [
    "filebaru.readline()"
   ]
  },
  {
   "cell_type": "code",
   "execution_count": 58,
   "id": "96587ccc-ba66-4967-a5ca-ee5597fddc63",
   "metadata": {},
   "outputs": [
    {
     "data": {
      "text/plain": [
       "' ini adalah penambahan wwkwk\\n'"
      ]
     },
     "execution_count": 58,
     "metadata": {},
     "output_type": "execute_result"
    }
   ],
   "source": [
    "filebaru.readline()"
   ]
  },
  {
   "cell_type": "code",
   "execution_count": null,
   "id": "17825273-c309-4804-add0-b5107e2bd13a",
   "metadata": {},
   "outputs": [],
   "source": []
  },
  {
   "cell_type": "code",
   "execution_count": 64,
   "id": "d5e4321a-3d7d-4b8d-8c8c-e5f13217db36",
   "metadata": {},
   "outputs": [
    {
     "data": {
      "text/plain": [
       "['Halo bro \\n',\n",
       " 'ini adalah file baru\\n',\n",
       " ' ini adalah penambahan wwkwk\\n',\n",
       " ' ini adalah penambahan wwkwk']"
      ]
     },
     "execution_count": 64,
     "metadata": {},
     "output_type": "execute_result"
    }
   ],
   "source": [
    "# membaca semua dengan readlines menjadi list\n",
    "filebaru.seek(0)\n",
    "filebaru.readlines()"
   ]
  },
  {
   "cell_type": "code",
   "execution_count": null,
   "id": "6d612ab3-5cfc-47be-86a7-7abc5c46e8b9",
   "metadata": {},
   "outputs": [],
   "source": []
  },
  {
   "cell_type": "markdown",
   "id": "8f0b42d9-ef5f-4e82-8996-3545e273aa90",
   "metadata": {},
   "source": [
    "## menutup File"
   ]
  },
  {
   "cell_type": "code",
   "execution_count": 12,
   "id": "8248c5d7-37c9-4a8c-bf2d-2bbea96885b3",
   "metadata": {},
   "outputs": [],
   "source": [
    "filebaru.close() # harus di tutup agar bisa di baca"
   ]
  },
  {
   "cell_type": "code",
   "execution_count": null,
   "id": "68771654-8a77-4308-92e7-1b827196836c",
   "metadata": {},
   "outputs": [],
   "source": []
  }
 ],
 "metadata": {
  "kernelspec": {
   "display_name": "Python [conda env:base] *",
   "language": "python",
   "name": "conda-base-py"
  },
  "language_info": {
   "codemirror_mode": {
    "name": "ipython",
    "version": 3
   },
   "file_extension": ".py",
   "mimetype": "text/x-python",
   "name": "python",
   "nbconvert_exporter": "python",
   "pygments_lexer": "ipython3",
   "version": "3.12.7"
  }
 },
 "nbformat": 4,
 "nbformat_minor": 5
}
