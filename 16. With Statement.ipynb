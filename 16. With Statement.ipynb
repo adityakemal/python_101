{
 "cells": [
  {
   "cell_type": "code",
   "execution_count": 6,
   "id": "e2f8906f-7624-4385-b108-4afd6f68b43c",
   "metadata": {},
   "outputs": [],
   "source": [
    "\n",
    "#contoh sebelumnya:\n",
    "file = open('contoh2.txt', mode='w')\n",
    "\n",
    "file.write('hello world!')\n",
    "\n",
    "file.close()"
   ]
  },
  {
   "cell_type": "markdown",
   "id": "4b104a33-d3e5-496c-a950-612a6203d997",
   "metadata": {},
   "source": [
    "## Membuat / Menulis"
   ]
  },
  {
   "cell_type": "code",
   "execution_count": 8,
   "id": "e5eb0d14-3475-449f-b352-9eafbcd3e1a5",
   "metadata": {},
   "outputs": [],
   "source": [
    "# dengan with tidak perlu menutup file lagi karna otomatis"
   ]
  },
  {
   "cell_type": "code",
   "execution_count": 30,
   "id": "079522b5-5c2c-47e4-a1cd-e454aa1e05da",
   "metadata": {},
   "outputs": [],
   "source": [
    "with open('contoh2.txt', mode='w') as file:\n",
    "    file.write('halo halo bandung ibukota periangan!') "
   ]
  },
  {
   "cell_type": "code",
   "execution_count": 32,
   "id": "7c2b6815-286d-4298-9490-b9c6098fb9c5",
   "metadata": {},
   "outputs": [],
   "source": [
    "#conhoh nambah\n",
    "with open('contoh2.txt', mode='a') as file: #pake mode a yak!\n",
    "    file.write('\\nini adalah baris baru!') \n"
   ]
  },
  {
   "cell_type": "markdown",
   "id": "337b2ac2-75ea-426c-8899-a0aa5289a758",
   "metadata": {},
   "source": [
    "## Membaca"
   ]
  },
  {
   "cell_type": "code",
   "execution_count": 35,
   "id": "46778c43-3dc7-472d-b009-f2aac1a4ee9f",
   "metadata": {},
   "outputs": [],
   "source": [
    "\n",
    "with open('contoh2.txt', mode='r') as file: \n",
    "    konten = file.read() "
   ]
  },
  {
   "cell_type": "code",
   "execution_count": 37,
   "id": "d7c448d3-348d-41f5-8df0-427d50ad75eb",
   "metadata": {},
   "outputs": [
    {
     "name": "stdout",
     "output_type": "stream",
     "text": [
      "halo halo bandung ibukota periangan!\n",
      "ini adalah baris baru!\n"
     ]
    }
   ],
   "source": [
    "print(konten)"
   ]
  },
  {
   "cell_type": "code",
   "execution_count": 39,
   "id": "e41d67c5-380e-4173-ac04-caa7f30f1da1",
   "metadata": {},
   "outputs": [],
   "source": [
    "with open('contoh2.txt', mode='r') as file: \n",
    "    kontenlist = file.readlines() "
   ]
  },
  {
   "cell_type": "code",
   "execution_count": 41,
   "id": "49a03186-6cb1-4015-93f9-dfb0efae33b6",
   "metadata": {},
   "outputs": [
    {
     "name": "stdout",
     "output_type": "stream",
     "text": [
      "['halo halo bandung ibukota periangan!\\n', 'ini adalah baris baru!']\n"
     ]
    }
   ],
   "source": [
    "print(kontenlist)"
   ]
  },
  {
   "cell_type": "code",
   "execution_count": 47,
   "id": "940c2890-1e53-4133-8ca7-2e5cdd034ab1",
   "metadata": {},
   "outputs": [],
   "source": [
    "map_upper = list(map(lambda x : x.upper(),kontenlist))"
   ]
  },
  {
   "cell_type": "code",
   "execution_count": 49,
   "id": "0b4603e8-736c-4ad8-b284-02dbffaea0c1",
   "metadata": {},
   "outputs": [
    {
     "name": "stdout",
     "output_type": "stream",
     "text": [
      "['HALO HALO BANDUNG IBUKOTA PERIANGAN!\\n', 'INI ADALAH BARIS BARU!']\n"
     ]
    }
   ],
   "source": [
    "print(map_upper)"
   ]
  },
  {
   "cell_type": "code",
   "execution_count": null,
   "id": "ba2dd354-d0c9-4ac7-b610-194da6cf22a2",
   "metadata": {},
   "outputs": [],
   "source": []
  },
  {
   "cell_type": "code",
   "execution_count": null,
   "id": "cf0a670c-ae8b-415c-92bb-dfb44e5ad890",
   "metadata": {},
   "outputs": [],
   "source": []
  },
  {
   "cell_type": "code",
   "execution_count": null,
   "id": "a859a9f3-7d5c-4e99-9218-6144440c8e5d",
   "metadata": {},
   "outputs": [],
   "source": []
  },
  {
   "cell_type": "code",
   "execution_count": 56,
   "id": "9311749c-5bc0-4420-896e-83ee1bbd6825",
   "metadata": {},
   "outputs": [],
   "source": [
    "#contoh di directory beda\n",
    "with open('../../contoh2.txt', mode='w') as file:\n",
    "    file.write('halo halo bandung ibukota periangan!') "
   ]
  },
  {
   "cell_type": "code",
   "execution_count": null,
   "id": "4144d62d-562a-4992-8d19-db6c9c5b11c9",
   "metadata": {},
   "outputs": [],
   "source": []
  }
 ],
 "metadata": {
  "kernelspec": {
   "display_name": "Python [conda env:base] *",
   "language": "python",
   "name": "conda-base-py"
  },
  "language_info": {
   "codemirror_mode": {
    "name": "ipython",
    "version": 3
   },
   "file_extension": ".py",
   "mimetype": "text/x-python",
   "name": "python",
   "nbconvert_exporter": "python",
   "pygments_lexer": "ipython3",
   "version": "3.12.7"
  }
 },
 "nbformat": 4,
 "nbformat_minor": 5
}
