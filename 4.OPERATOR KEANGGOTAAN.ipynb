{
 "cells": [
  {
   "cell_type": "code",
   "execution_count": 2,
   "id": "881e4dae-2846-4256-b9e9-d513ceeaf872",
   "metadata": {},
   "outputs": [],
   "source": [
    "a = [1,2,3,4,5,6,7]"
   ]
  },
  {
   "cell_type": "code",
   "execution_count": 4,
   "id": "865afd73-13ac-4d95-bff8-67e29e320d0c",
   "metadata": {},
   "outputs": [
    {
     "data": {
      "text/plain": [
       "True"
      ]
     },
     "execution_count": 4,
     "metadata": {},
     "output_type": "execute_result"
    }
   ],
   "source": [
    "1 in a"
   ]
  },
  {
   "cell_type": "code",
   "execution_count": 8,
   "id": "9beb7173-e4f9-42d8-93f6-3dc34a4d03e0",
   "metadata": {},
   "outputs": [
    {
     "data": {
      "text/plain": [
       "False"
      ]
     },
     "execution_count": 8,
     "metadata": {},
     "output_type": "execute_result"
    }
   ],
   "source": [
    "2 not in a"
   ]
  },
  {
   "cell_type": "code",
   "execution_count": 12,
   "id": "de554058-5b9a-4af0-9499-d457e3bf3476",
   "metadata": {},
   "outputs": [
    {
     "data": {
      "text/plain": [
       "'operator identitas operator identitas operator identitas operator identitas operator identitas operator identitas operator identitas operator identitas operator identitas operator identitas operator identitas operator identitas operator identitas operator identitas operator identitas operator identitas operator identitas operator identitas operator identitas operator identitas '"
      ]
     },
     "execution_count": 12,
     "metadata": {},
     "output_type": "execute_result"
    }
   ],
   "source": [
    "\"operator identitas \" *20"
   ]
  },
  {
   "cell_type": "code",
   "execution_count": 26,
   "id": "e9c7fb2f-613c-4ede-82ee-9b3b472925fb",
   "metadata": {},
   "outputs": [],
   "source": [
    "#mengetahui apakah value dalam object yang sama"
   ]
  },
  {
   "cell_type": "code",
   "execution_count": 28,
   "id": "d4894e2c-fb51-424a-a754-ef0da19fcc94",
   "metadata": {},
   "outputs": [],
   "source": [
    "a = [1,2,3,4,5]\n",
    "b = [1,2,3,4,5]\n",
    "c = a"
   ]
  },
  {
   "cell_type": "code",
   "execution_count": 30,
   "id": "7e00496a-a93d-4bac-a9b3-1c6cf7ad9119",
   "metadata": {},
   "outputs": [
    {
     "data": {
      "text/plain": [
       "False"
      ]
     },
     "execution_count": 30,
     "metadata": {},
     "output_type": "execute_result"
    }
   ],
   "source": [
    "a is b"
   ]
  },
  {
   "cell_type": "code",
   "execution_count": 32,
   "id": "2675b143-5075-4745-92a6-52a0cb718f62",
   "metadata": {},
   "outputs": [
    {
     "data": {
      "text/plain": [
       "True"
      ]
     },
     "execution_count": 32,
     "metadata": {},
     "output_type": "execute_result"
    }
   ],
   "source": [
    "a is c"
   ]
  },
  {
   "cell_type": "code",
   "execution_count": 34,
   "id": "f280eb17-d788-4630-9444-fe2246d6b9aa",
   "metadata": {},
   "outputs": [
    {
     "data": {
      "text/plain": [
       "False"
      ]
     },
     "execution_count": 34,
     "metadata": {},
     "output_type": "execute_result"
    }
   ],
   "source": [
    "a is not c"
   ]
  },
  {
   "cell_type": "code",
   "execution_count": null,
   "id": "5cfd417a-fe03-43c6-9719-8b8bb84d6054",
   "metadata": {},
   "outputs": [],
   "source": []
  }
 ],
 "metadata": {
  "kernelspec": {
   "display_name": "Python [conda env:base] *",
   "language": "python",
   "name": "conda-base-py"
  },
  "language_info": {
   "codemirror_mode": {
    "name": "ipython",
    "version": 3
   },
   "file_extension": ".py",
   "mimetype": "text/x-python",
   "name": "python",
   "nbconvert_exporter": "python",
   "pygments_lexer": "ipython3",
   "version": "3.12.7"
  }
 },
 "nbformat": 4,
 "nbformat_minor": 5
}
