{
 "cells": [
  {
   "cell_type": "markdown",
   "id": "417fb5a2-2725-4426-804e-c50c27a22794",
   "metadata": {},
   "source": [
    "## VARIABLE GLOBAL"
   ]
  },
  {
   "cell_type": "code",
   "execution_count": 10,
   "id": "c6c6e582-ed0f-417c-acce-6463f1b17069",
   "metadata": {},
   "outputs": [],
   "source": [
    "var = 'ini var global'"
   ]
  },
  {
   "cell_type": "code",
   "execution_count": 12,
   "id": "6a70f123-d8f6-4006-9472-ea88b6886fc2",
   "metadata": {},
   "outputs": [
    {
     "name": "stdout",
     "output_type": "stream",
     "text": [
      "ini var global\n"
     ]
    }
   ],
   "source": [
    "def contoh(): ##bisa di panggil di dalam function\n",
    "    print(var)\n",
    "\n",
    "contoh()"
   ]
  },
  {
   "cell_type": "markdown",
   "id": "4d161517-29dc-4863-b6a8-0bbd98f5a373",
   "metadata": {},
   "source": [
    "## VARIABLE LOCAL"
   ]
  },
  {
   "cell_type": "code",
   "execution_count": 14,
   "id": "cca28ca2-c77b-45b7-99ed-99395f2e9908",
   "metadata": {},
   "outputs": [
    {
     "name": "stdout",
     "output_type": "stream",
     "text": [
      "saya local\n"
     ]
    }
   ],
   "source": [
    "# variable local ada di dalam function \n",
    "def localvar():\n",
    "    varloc = 'saya local'\n",
    "    print(varloc)\n",
    "\n",
    "localvar()"
   ]
  },
  {
   "cell_type": "code",
   "execution_count": 18,
   "id": "5954bd6d-3191-4f04-9b02-c27cb54c0d19",
   "metadata": {},
   "outputs": [
    {
     "ename": "NameError",
     "evalue": "name 'varloc' is not defined",
     "output_type": "error",
     "traceback": [
      "\u001b[0;31m---------------------------------------------------------------------------\u001b[0m",
      "\u001b[0;31mNameError\u001b[0m                                 Traceback (most recent call last)",
      "Cell \u001b[0;32mIn[18], line 1\u001b[0m\n\u001b[0;32m----> 1\u001b[0m \u001b[38;5;28mprint\u001b[39m(varloc)\n",
      "\u001b[0;31mNameError\u001b[0m: name 'varloc' is not defined"
     ]
    }
   ],
   "source": [
    "print(varloc) #tidak bisa di pangggil di luar function"
   ]
  },
  {
   "cell_type": "markdown",
   "id": "6bb4a4bb-3ac8-410c-8cb7-406cc2777802",
   "metadata": {},
   "source": [
    "## VARIABLE ENCLOSED"
   ]
  },
  {
   "cell_type": "code",
   "execution_count": 24,
   "id": "272fcf0b-c935-4b60-914c-f41d2bbf5e1f",
   "metadata": {},
   "outputs": [
    {
     "name": "stdout",
     "output_type": "stream",
     "text": [
      "saya string\n"
     ]
    }
   ],
   "source": [
    "# variable local ada di dalam function \n",
    "def contoh():\n",
    "    var = 'saya string'\n",
    "\n",
    "    def contoh2():\n",
    "        print(var) #ini variable enclosed karna ngambil ke parent fungsi nya / 1 tingkat di atasnya\n",
    "\n",
    "    contoh2()\n",
    "\n",
    "    print(var) #saya local var\n",
    "\n",
    "contoh()"
   ]
  },
  {
   "cell_type": "markdown",
   "id": "b4c8cda9-ea6a-40de-9ca3-be07f07a7c2d",
   "metadata": {},
   "source": [
    "## KEYWORD GLOBAL"
   ]
  },
  {
   "cell_type": "code",
   "execution_count": 28,
   "id": "4dd4b3ee-f07d-430e-9d85-de215d846157",
   "metadata": {},
   "outputs": [],
   "source": [
    "var = 'saya si global'"
   ]
  },
  {
   "cell_type": "code",
   "execution_count": 30,
   "id": "e15f01f9-dd69-4bca-9ca8-4c6c722521d8",
   "metadata": {},
   "outputs": [],
   "source": [
    "def contoh():\n",
    "    var = 'oke' #variable var ini hanya berlaku di dalam function\n",
    "    print(var)"
   ]
  },
  {
   "cell_type": "code",
   "execution_count": 32,
   "id": "46b3a224-b59a-485f-8265-4689b5d3e0cf",
   "metadata": {},
   "outputs": [
    {
     "name": "stdout",
     "output_type": "stream",
     "text": [
      "oke\n"
     ]
    }
   ],
   "source": [
    "contoh()"
   ]
  },
  {
   "cell_type": "code",
   "execution_count": 38,
   "id": "d3004800-5ac6-4678-909c-458af5ad8146",
   "metadata": {},
   "outputs": [
    {
     "name": "stdout",
     "output_type": "stream",
     "text": [
      "saya si global\n"
     ]
    }
   ],
   "source": [
    "print(var)"
   ]
  },
  {
   "cell_type": "code",
   "execution_count": 44,
   "id": "638751b1-b68a-4edd-88ed-fe99fc489c37",
   "metadata": {},
   "outputs": [
    {
     "name": "stdout",
     "output_type": "stream",
     "text": [
      "saya mereplace global fun\n"
     ]
    }
   ],
   "source": [
    "def contoh2():\n",
    "    global var # jika ingin pake global di define dulu pake 'global'\n",
    "    var = 'saya mereplace global fun' \n",
    "    print(var)\n",
    "\n",
    "contoh2()"
   ]
  },
  {
   "cell_type": "code",
   "execution_count": null,
   "id": "9156e6d5-58bb-4251-a35d-62d83bf29e04",
   "metadata": {},
   "outputs": [],
   "source": []
  },
  {
   "cell_type": "markdown",
   "id": "112da368-3504-4855-bc15-0a415b658b21",
   "metadata": {},
   "source": [
    "## KEYWORD ENCLOSING"
   ]
  },
  {
   "cell_type": "code",
   "execution_count": 47,
   "id": "7bed760d-5217-4ed7-ac23-28e1f794d2e1",
   "metadata": {},
   "outputs": [],
   "source": [
    "# 'nonlocal' dipake untuk mengakses variable enclosing example:"
   ]
  },
  {
   "cell_type": "code",
   "execution_count": 59,
   "id": "a8841e69-8476-45ac-9a12-1136c6b63cc3",
   "metadata": {},
   "outputs": [
    {
     "name": "stdout",
     "output_type": "stream",
     "text": [
      "123 123 123 \n"
     ]
    }
   ],
   "source": [
    "def fun1():\n",
    "    a = '123 '\n",
    "    def fun2():\n",
    "        nonlocal a #dipake disini karna akan merubah var a\n",
    "        a = a*3\n",
    "        print(a)\n",
    "\n",
    "    fun2()\n",
    "\n",
    "fun1()"
   ]
  },
  {
   "cell_type": "code",
   "execution_count": null,
   "id": "42c48e1d-9a12-4e79-b70e-097a607e6f9a",
   "metadata": {},
   "outputs": [],
   "source": []
  }
 ],
 "metadata": {
  "kernelspec": {
   "display_name": "Python [conda env:base] *",
   "language": "python",
   "name": "conda-base-py"
  },
  "language_info": {
   "codemirror_mode": {
    "name": "ipython",
    "version": 3
   },
   "file_extension": ".py",
   "mimetype": "text/x-python",
   "name": "python",
   "nbconvert_exporter": "python",
   "pygments_lexer": "ipython3",
   "version": "3.12.7"
  }
 },
 "nbformat": 4,
 "nbformat_minor": 5
}
