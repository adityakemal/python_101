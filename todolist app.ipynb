{
 "cells": [
  {
   "cell_type": "code",
   "execution_count": null,
   "id": "a41f2032-f5cb-4dcc-bb6b-d62642afb4ea",
   "metadata": {},
   "outputs": [],
   "source": [
    "# nonlocal data is defind when in function to make them know the data is not from local"
   ]
  },
  {
   "cell_type": "code",
   "execution_count": null,
   "id": "9d219ea9-1544-4219-a953-aaef8678898e",
   "metadata": {},
   "outputs": [
    {
     "ename": "",
     "evalue": "",
     "output_type": "error",
     "traceback": [
      "\u001b[1;31mRunning cells with 'Python 3.13.1' requires the ipykernel package.\n",
      "\u001b[1;31mRun the following command to install 'ipykernel' into the Python environment. \n",
      "\u001b[1;31mCommand: '/opt/homebrew/bin/python3 -m pip install ipykernel -U --user --force-reinstall'"
     ]
    }
   ],
   "source": [
    "def main():\n",
    "    data = ['belajar', 'beli kue']\n",
    "    \n",
    "    def lihat():\n",
    "        for i,s in enumerate(data): print(f'{i+1}, {s}')\n",
    "    \n",
    "    def tambah(todo):\n",
    "        data.append(todo)\n",
    "        print('Berhasil ditambahkan ✅')\n",
    "    \n",
    "    def hapus(delete_id):\n",
    "        nonlocal data # karna data ini di dalam fungsi (lingkup enclosing) maka pake 'nonlocal' untuk editnya kalo global pake 'global'\n",
    "        if delete_id.isdigit():\n",
    "            id = int(delete_id) -1\n",
    "            filtered = []\n",
    "            for i, d in enumerate(data):\n",
    "                if i != id:\n",
    "                    filtered.append(d)\n",
    "                    \n",
    "            data = filtered      \n",
    "            print('Berhasil di hapus ✅')\n",
    "        else:\n",
    "            print('id tidak di temukan')\n",
    "    \n",
    "    \n",
    "        \n",
    "    while True:\n",
    "        print('\\n \\n')\n",
    "        print('==MY TODOLIST==')\n",
    "        print('Lihat ketik 1')\n",
    "        print('Tambah ketik 2')\n",
    "        print('Hapus ketik 3')\n",
    "        print('Keluar ketik 4 \\n')\n",
    "        \n",
    "        menu = input('Silahkan Ketik disinsi=')\n",
    "        print('\\n')\n",
    "        \n",
    "        if menu == '1':\n",
    "            lihat()\n",
    "        if menu == '2':\n",
    "            todo = input('Silahkan masukan todo')\n",
    "            tambah(todo)\n",
    "        if menu == '3':\n",
    "            lihat()\n",
    "            delete_id = input('Masukan nomor yang akan di Hapus:')\n",
    "            hapus(delete_id)\n",
    "        if menu == '4':\n",
    "            print('Sampai jumpa!! silahkan datang kembali')\n",
    "            break\n",
    "    \n",
    "\n",
    "\n",
    "main()"
   ]
  },
  {
   "cell_type": "code",
   "execution_count": null,
   "id": "344382cd-ed82-471e-a529-fbc4cfd94d1f",
   "metadata": {},
   "outputs": [],
   "source": [
    "\n"
   ]
  }
 ],
 "metadata": {
  "kernelspec": {
   "display_name": "Python 3",
   "language": "python",
   "name": "python3"
  },
  "language_info": {
   "codemirror_mode": {
    "name": "ipython",
    "version": 3
   },
   "file_extension": ".py",
   "mimetype": "text/x-python",
   "name": "python",
   "nbconvert_exporter": "python",
   "pygments_lexer": "ipython3",
   "version": "3.13.1"
  }
 },
 "nbformat": 4,
 "nbformat_minor": 5
}
